{
 "cells": [
  {
   "cell_type": "code",
   "execution_count": null,
   "metadata": {},
   "outputs": [],
   "source": []
  },
  {
   "cell_type": "markdown",
   "metadata": {},
   "source": [
    "# Определение стоимости автомобилей"
   ]
  },
  {
   "cell_type": "markdown",
   "metadata": {},
   "source": [
    "Сервис по продаже автомобилей с пробегом «Не бит, не крашен» разрабатывает приложение для привлечения новых клиентов. В нём можно быстро узнать рыночную стоимость своего автомобиля. В вашем распоряжении исторические данные: технические характеристики, комплектации и цены автомобилей. Вам нужно построить модель для определения стоимости. \n",
    "\n",
    "Заказчику важны:\n",
    "\n",
    "- качество предсказания;\n",
    "- скорость предсказания;\n",
    "- время обучения."
   ]
  },
  {
   "cell_type": "markdown",
   "metadata": {},
   "source": [
    "## Содержание: \n",
    "* [Шаг 1. Подготовка данных¶](#1.)\n",
    "* [  Импорты](#1.1)\n",
    "* [  Смотрим наш датафрейм](#1.2)\n",
    "* [  Обзор общей информации по датафрейму и кол-во пропусков ](#2.1)\n",
    "* [ Смотрим описательную статистику. ](#2.2)\n",
    "* [  Убираем аномалии](#2.3)\n",
    "* [ Иследуем autos](#3.1)\n",
    "* [  Смотрим корреляцию ](#3.4)\n",
    "* [   Выводы по 1 шагу:](#3.5)\n",
    "\n",
    "- [Шаг 2. Обучение моделей ](#4.)\n",
    "\n",
    "\n",
    "- [ Шаг 3. Анализируем данные](#5.)\n",
    "- [ Шаг 4. Вывод по проекту:](#6.)\n"
   ]
  },
  {
   "cell_type": "markdown",
   "metadata": {},
   "source": [
    "## Подготовка данных <a name=\"1.\">"
   ]
  },
  {
   "cell_type": "markdown",
   "metadata": {},
   "source": [
    "### Импорты <a name=\"1.1\">"
   ]
  },
  {
   "cell_type": "code",
   "execution_count": 1,
   "metadata": {},
   "outputs": [
    {
     "name": "stdout",
     "output_type": "stream",
     "text": [
      "Requirement already satisfied: phik in /opt/conda/lib/python3.9/site-packages (0.12.4)\n",
      "Requirement already satisfied: scipy>=1.5.2 in /opt/conda/lib/python3.9/site-packages (from phik) (1.9.1)\n",
      "Requirement already satisfied: numpy>=1.18.0 in /opt/conda/lib/python3.9/site-packages (from phik) (1.21.1)\n",
      "Requirement already satisfied: joblib>=0.14.1 in /opt/conda/lib/python3.9/site-packages (from phik) (1.1.0)\n",
      "Requirement already satisfied: pandas>=0.25.1 in /opt/conda/lib/python3.9/site-packages (from phik) (1.2.4)\n",
      "Requirement already satisfied: matplotlib>=2.2.3 in /opt/conda/lib/python3.9/site-packages (from phik) (3.3.4)\n",
      "Requirement already satisfied: kiwisolver>=1.0.1 in /opt/conda/lib/python3.9/site-packages (from matplotlib>=2.2.3->phik) (1.4.4)\n",
      "Requirement already satisfied: pillow>=6.2.0 in /opt/conda/lib/python3.9/site-packages (from matplotlib>=2.2.3->phik) (8.4.0)\n",
      "Requirement already satisfied: python-dateutil>=2.1 in /opt/conda/lib/python3.9/site-packages (from matplotlib>=2.2.3->phik) (2.8.1)\n",
      "Requirement already satisfied: pyparsing!=2.0.4,!=2.1.2,!=2.1.6,>=2.0.3 in /opt/conda/lib/python3.9/site-packages (from matplotlib>=2.2.3->phik) (2.4.7)\n",
      "Requirement already satisfied: cycler>=0.10 in /opt/conda/lib/python3.9/site-packages (from matplotlib>=2.2.3->phik) (0.11.0)\n",
      "Requirement already satisfied: pytz>=2017.3 in /opt/conda/lib/python3.9/site-packages (from pandas>=0.25.1->phik) (2021.1)\n",
      "Requirement already satisfied: six>=1.5 in /opt/conda/lib/python3.9/site-packages (from python-dateutil>=2.1->matplotlib>=2.2.3->phik) (1.16.0)\n",
      "Note: you may need to restart the kernel to use updated packages.\n"
     ]
    }
   ],
   "source": [
    "pip install phik"
   ]
  },
  {
   "cell_type": "code",
   "execution_count": 2,
   "metadata": {},
   "outputs": [],
   "source": [
    "import pandas as pd\n",
    "import matplotlib.pyplot as plt\n",
    "import seaborn as sns\n",
    "import time\n",
    "\n",
    "import numpy as np\n",
    "from sklearn.metrics import f1_score\n",
    "from scipy import stats as st\n",
    "from math import factorial\n",
    "from sklearn.svm import SVR\n",
    "from sklearn.preprocessing import LabelEncoder\n",
    "import phik\n",
    "\n",
    "from sklearn.ensemble import RandomForestRegressor\n",
    "from sklearn.linear_model import Ridge\n",
    "from sklearn.model_selection import RandomizedSearchCV\n",
    "from scipy.stats import binom\n",
    "from sklearn.preprocessing import StandardScaler\n",
    "from sklearn.linear_model import LogisticRegression\n",
    "from sklearn.model_selection import train_test_split\n",
    "from sklearn.metrics import r2_score\n",
    "from sklearn.linear_model import LinearRegression\n",
    "import plotly.express as px\n",
    "from sklearn.preprocessing import OneHotEncoder\n",
    "from sklearn.metrics import mean_absolute_error\n",
    "from sklearn.metrics import mean_squared_error \n",
    "from sklearn.metrics import accuracy_score, recall_score, precision_score, confusion_matrix\n",
    "import math\n",
    "from sklearn.model_selection import train_test_split\n",
    "from sklearn.pipeline import Pipeline\n",
    "from sklearn.preprocessing import OneHotEncoder, OrdinalEncoder, StandardScaler, MinMaxScaler, RobustScaler\n",
    "from sklearn.compose import ColumnTransformer\n",
    "from sklearn.impute import SimpleImputer\n",
    "from sklearn.metrics import roc_auc_score\n",
    "from sklearn.model_selection import RandomizedSearchCV\n",
    "from sklearn.linear_model import LogisticRegression\n",
    "from sklearn.neighbors import KNeighborsClassifier\n",
    "from sklearn.tree import DecisionTreeClassifier\n",
    "from sklearn.tree import DecisionTreeRegressor\n",
    "from sklearn.model_selection import cross_val_score\n",
    "\n",
    "from sklearn.model_selection import GridSearchCV\n",
    "from sklearn.tree import plot_tree\n",
    "import matplotlib.pyplot as plt\n",
    "from sklearn import svm\n",
    "\n",
    "from sklearn.svm import SVC\n",
    "#import kmeans\n",
    "from sklearn.cluster import KMeans\n",
    "from sklearn.metrics import make_scorer\n",
    "from sklearn.ensemble import RandomForestRegressor\n",
    "\n",
    "from lightgbm import LGBMRegressor\n",
    "from catboost import CatBoostRegressor"
   ]
  },
  {
   "cell_type": "code",
   "execution_count": 3,
   "metadata": {},
   "outputs": [],
   "source": [
    "try:\n",
    "    autos=pd.read_csv('/Users/konstantingrigorev/Desktop/autos.csv')\n",
    "except:\n",
    "    autos=pd.read_csv('/datasets/autos.csv')"
   ]
  },
  {
   "cell_type": "markdown",
   "metadata": {},
   "source": [
    "### Смотрим  наш датафрейм   <a name=\"1.2\">"
   ]
  },
  {
   "cell_type": "code",
   "execution_count": 4,
   "metadata": {
    "scrolled": false
   },
   "outputs": [
    {
     "data": {
      "text/html": [
       "<div>\n",
       "<style scoped>\n",
       "    .dataframe tbody tr th:only-of-type {\n",
       "        vertical-align: middle;\n",
       "    }\n",
       "\n",
       "    .dataframe tbody tr th {\n",
       "        vertical-align: top;\n",
       "    }\n",
       "\n",
       "    .dataframe thead th {\n",
       "        text-align: right;\n",
       "    }\n",
       "</style>\n",
       "<table border=\"1\" class=\"dataframe\">\n",
       "  <thead>\n",
       "    <tr style=\"text-align: right;\">\n",
       "      <th></th>\n",
       "      <th>DateCrawled</th>\n",
       "      <th>Price</th>\n",
       "      <th>VehicleType</th>\n",
       "      <th>RegistrationYear</th>\n",
       "      <th>Gearbox</th>\n",
       "      <th>Power</th>\n",
       "      <th>Model</th>\n",
       "      <th>Kilometer</th>\n",
       "      <th>RegistrationMonth</th>\n",
       "      <th>FuelType</th>\n",
       "      <th>Brand</th>\n",
       "      <th>Repaired</th>\n",
       "      <th>DateCreated</th>\n",
       "      <th>NumberOfPictures</th>\n",
       "      <th>PostalCode</th>\n",
       "      <th>LastSeen</th>\n",
       "    </tr>\n",
       "  </thead>\n",
       "  <tbody>\n",
       "    <tr>\n",
       "      <th>0</th>\n",
       "      <td>2016-03-24 11:52:17</td>\n",
       "      <td>480</td>\n",
       "      <td>NaN</td>\n",
       "      <td>1993</td>\n",
       "      <td>manual</td>\n",
       "      <td>0</td>\n",
       "      <td>golf</td>\n",
       "      <td>150000</td>\n",
       "      <td>0</td>\n",
       "      <td>petrol</td>\n",
       "      <td>volkswagen</td>\n",
       "      <td>NaN</td>\n",
       "      <td>2016-03-24 00:00:00</td>\n",
       "      <td>0</td>\n",
       "      <td>70435</td>\n",
       "      <td>2016-04-07 03:16:57</td>\n",
       "    </tr>\n",
       "    <tr>\n",
       "      <th>1</th>\n",
       "      <td>2016-03-24 10:58:45</td>\n",
       "      <td>18300</td>\n",
       "      <td>coupe</td>\n",
       "      <td>2011</td>\n",
       "      <td>manual</td>\n",
       "      <td>190</td>\n",
       "      <td>NaN</td>\n",
       "      <td>125000</td>\n",
       "      <td>5</td>\n",
       "      <td>gasoline</td>\n",
       "      <td>audi</td>\n",
       "      <td>yes</td>\n",
       "      <td>2016-03-24 00:00:00</td>\n",
       "      <td>0</td>\n",
       "      <td>66954</td>\n",
       "      <td>2016-04-07 01:46:50</td>\n",
       "    </tr>\n",
       "    <tr>\n",
       "      <th>2</th>\n",
       "      <td>2016-03-14 12:52:21</td>\n",
       "      <td>9800</td>\n",
       "      <td>suv</td>\n",
       "      <td>2004</td>\n",
       "      <td>auto</td>\n",
       "      <td>163</td>\n",
       "      <td>grand</td>\n",
       "      <td>125000</td>\n",
       "      <td>8</td>\n",
       "      <td>gasoline</td>\n",
       "      <td>jeep</td>\n",
       "      <td>NaN</td>\n",
       "      <td>2016-03-14 00:00:00</td>\n",
       "      <td>0</td>\n",
       "      <td>90480</td>\n",
       "      <td>2016-04-05 12:47:46</td>\n",
       "    </tr>\n",
       "    <tr>\n",
       "      <th>3</th>\n",
       "      <td>2016-03-17 16:54:04</td>\n",
       "      <td>1500</td>\n",
       "      <td>small</td>\n",
       "      <td>2001</td>\n",
       "      <td>manual</td>\n",
       "      <td>75</td>\n",
       "      <td>golf</td>\n",
       "      <td>150000</td>\n",
       "      <td>6</td>\n",
       "      <td>petrol</td>\n",
       "      <td>volkswagen</td>\n",
       "      <td>no</td>\n",
       "      <td>2016-03-17 00:00:00</td>\n",
       "      <td>0</td>\n",
       "      <td>91074</td>\n",
       "      <td>2016-03-17 17:40:17</td>\n",
       "    </tr>\n",
       "    <tr>\n",
       "      <th>4</th>\n",
       "      <td>2016-03-31 17:25:20</td>\n",
       "      <td>3600</td>\n",
       "      <td>small</td>\n",
       "      <td>2008</td>\n",
       "      <td>manual</td>\n",
       "      <td>69</td>\n",
       "      <td>fabia</td>\n",
       "      <td>90000</td>\n",
       "      <td>7</td>\n",
       "      <td>gasoline</td>\n",
       "      <td>skoda</td>\n",
       "      <td>no</td>\n",
       "      <td>2016-03-31 00:00:00</td>\n",
       "      <td>0</td>\n",
       "      <td>60437</td>\n",
       "      <td>2016-04-06 10:17:21</td>\n",
       "    </tr>\n",
       "    <tr>\n",
       "      <th>...</th>\n",
       "      <td>...</td>\n",
       "      <td>...</td>\n",
       "      <td>...</td>\n",
       "      <td>...</td>\n",
       "      <td>...</td>\n",
       "      <td>...</td>\n",
       "      <td>...</td>\n",
       "      <td>...</td>\n",
       "      <td>...</td>\n",
       "      <td>...</td>\n",
       "      <td>...</td>\n",
       "      <td>...</td>\n",
       "      <td>...</td>\n",
       "      <td>...</td>\n",
       "      <td>...</td>\n",
       "      <td>...</td>\n",
       "    </tr>\n",
       "    <tr>\n",
       "      <th>354364</th>\n",
       "      <td>2016-03-21 09:50:58</td>\n",
       "      <td>0</td>\n",
       "      <td>NaN</td>\n",
       "      <td>2005</td>\n",
       "      <td>manual</td>\n",
       "      <td>0</td>\n",
       "      <td>colt</td>\n",
       "      <td>150000</td>\n",
       "      <td>7</td>\n",
       "      <td>petrol</td>\n",
       "      <td>mitsubishi</td>\n",
       "      <td>yes</td>\n",
       "      <td>2016-03-21 00:00:00</td>\n",
       "      <td>0</td>\n",
       "      <td>2694</td>\n",
       "      <td>2016-03-21 10:42:49</td>\n",
       "    </tr>\n",
       "    <tr>\n",
       "      <th>354365</th>\n",
       "      <td>2016-03-14 17:48:27</td>\n",
       "      <td>2200</td>\n",
       "      <td>NaN</td>\n",
       "      <td>2005</td>\n",
       "      <td>NaN</td>\n",
       "      <td>0</td>\n",
       "      <td>NaN</td>\n",
       "      <td>20000</td>\n",
       "      <td>1</td>\n",
       "      <td>NaN</td>\n",
       "      <td>sonstige_autos</td>\n",
       "      <td>NaN</td>\n",
       "      <td>2016-03-14 00:00:00</td>\n",
       "      <td>0</td>\n",
       "      <td>39576</td>\n",
       "      <td>2016-04-06 00:46:52</td>\n",
       "    </tr>\n",
       "    <tr>\n",
       "      <th>354366</th>\n",
       "      <td>2016-03-05 19:56:21</td>\n",
       "      <td>1199</td>\n",
       "      <td>convertible</td>\n",
       "      <td>2000</td>\n",
       "      <td>auto</td>\n",
       "      <td>101</td>\n",
       "      <td>fortwo</td>\n",
       "      <td>125000</td>\n",
       "      <td>3</td>\n",
       "      <td>petrol</td>\n",
       "      <td>smart</td>\n",
       "      <td>no</td>\n",
       "      <td>2016-03-05 00:00:00</td>\n",
       "      <td>0</td>\n",
       "      <td>26135</td>\n",
       "      <td>2016-03-11 18:17:12</td>\n",
       "    </tr>\n",
       "    <tr>\n",
       "      <th>354367</th>\n",
       "      <td>2016-03-19 18:57:12</td>\n",
       "      <td>9200</td>\n",
       "      <td>bus</td>\n",
       "      <td>1996</td>\n",
       "      <td>manual</td>\n",
       "      <td>102</td>\n",
       "      <td>transporter</td>\n",
       "      <td>150000</td>\n",
       "      <td>3</td>\n",
       "      <td>gasoline</td>\n",
       "      <td>volkswagen</td>\n",
       "      <td>no</td>\n",
       "      <td>2016-03-19 00:00:00</td>\n",
       "      <td>0</td>\n",
       "      <td>87439</td>\n",
       "      <td>2016-04-07 07:15:26</td>\n",
       "    </tr>\n",
       "    <tr>\n",
       "      <th>354368</th>\n",
       "      <td>2016-03-20 19:41:08</td>\n",
       "      <td>3400</td>\n",
       "      <td>wagon</td>\n",
       "      <td>2002</td>\n",
       "      <td>manual</td>\n",
       "      <td>100</td>\n",
       "      <td>golf</td>\n",
       "      <td>150000</td>\n",
       "      <td>6</td>\n",
       "      <td>gasoline</td>\n",
       "      <td>volkswagen</td>\n",
       "      <td>NaN</td>\n",
       "      <td>2016-03-20 00:00:00</td>\n",
       "      <td>0</td>\n",
       "      <td>40764</td>\n",
       "      <td>2016-03-24 12:45:21</td>\n",
       "    </tr>\n",
       "  </tbody>\n",
       "</table>\n",
       "<p>354369 rows × 16 columns</p>\n",
       "</div>"
      ],
      "text/plain": [
       "                DateCrawled  Price  VehicleType  RegistrationYear Gearbox  \\\n",
       "0       2016-03-24 11:52:17    480          NaN              1993  manual   \n",
       "1       2016-03-24 10:58:45  18300        coupe              2011  manual   \n",
       "2       2016-03-14 12:52:21   9800          suv              2004    auto   \n",
       "3       2016-03-17 16:54:04   1500        small              2001  manual   \n",
       "4       2016-03-31 17:25:20   3600        small              2008  manual   \n",
       "...                     ...    ...          ...               ...     ...   \n",
       "354364  2016-03-21 09:50:58      0          NaN              2005  manual   \n",
       "354365  2016-03-14 17:48:27   2200          NaN              2005     NaN   \n",
       "354366  2016-03-05 19:56:21   1199  convertible              2000    auto   \n",
       "354367  2016-03-19 18:57:12   9200          bus              1996  manual   \n",
       "354368  2016-03-20 19:41:08   3400        wagon              2002  manual   \n",
       "\n",
       "        Power        Model  Kilometer  RegistrationMonth  FuelType  \\\n",
       "0           0         golf     150000                  0    petrol   \n",
       "1         190          NaN     125000                  5  gasoline   \n",
       "2         163        grand     125000                  8  gasoline   \n",
       "3          75         golf     150000                  6    petrol   \n",
       "4          69        fabia      90000                  7  gasoline   \n",
       "...       ...          ...        ...                ...       ...   \n",
       "354364      0         colt     150000                  7    petrol   \n",
       "354365      0          NaN      20000                  1       NaN   \n",
       "354366    101       fortwo     125000                  3    petrol   \n",
       "354367    102  transporter     150000                  3  gasoline   \n",
       "354368    100         golf     150000                  6  gasoline   \n",
       "\n",
       "                 Brand Repaired          DateCreated  NumberOfPictures  \\\n",
       "0           volkswagen      NaN  2016-03-24 00:00:00                 0   \n",
       "1                 audi      yes  2016-03-24 00:00:00                 0   \n",
       "2                 jeep      NaN  2016-03-14 00:00:00                 0   \n",
       "3           volkswagen       no  2016-03-17 00:00:00                 0   \n",
       "4                skoda       no  2016-03-31 00:00:00                 0   \n",
       "...                ...      ...                  ...               ...   \n",
       "354364      mitsubishi      yes  2016-03-21 00:00:00                 0   \n",
       "354365  sonstige_autos      NaN  2016-03-14 00:00:00                 0   \n",
       "354366           smart       no  2016-03-05 00:00:00                 0   \n",
       "354367      volkswagen       no  2016-03-19 00:00:00                 0   \n",
       "354368      volkswagen      NaN  2016-03-20 00:00:00                 0   \n",
       "\n",
       "        PostalCode             LastSeen  \n",
       "0            70435  2016-04-07 03:16:57  \n",
       "1            66954  2016-04-07 01:46:50  \n",
       "2            90480  2016-04-05 12:47:46  \n",
       "3            91074  2016-03-17 17:40:17  \n",
       "4            60437  2016-04-06 10:17:21  \n",
       "...            ...                  ...  \n",
       "354364        2694  2016-03-21 10:42:49  \n",
       "354365       39576  2016-04-06 00:46:52  \n",
       "354366       26135  2016-03-11 18:17:12  \n",
       "354367       87439  2016-04-07 07:15:26  \n",
       "354368       40764  2016-03-24 12:45:21  \n",
       "\n",
       "[354369 rows x 16 columns]"
      ]
     },
     "execution_count": 4,
     "metadata": {},
     "output_type": "execute_result"
    }
   ],
   "source": [
    "autos"
   ]
  },
  {
   "cell_type": "markdown",
   "metadata": {},
   "source": [
    "Загрузили данные, всё хорошо"
   ]
  },
  {
   "cell_type": "markdown",
   "metadata": {},
   "source": [
    "### Обзор общей информации по датафрейму и кол-во пропусков  <a name=\"2.1\">"
   ]
  },
  {
   "cell_type": "code",
   "execution_count": 5,
   "metadata": {},
   "outputs": [
    {
     "name": "stdout",
     "output_type": "stream",
     "text": [
      "<class 'pandas.core.frame.DataFrame'>\n",
      "RangeIndex: 354369 entries, 0 to 354368\n",
      "Data columns (total 16 columns):\n",
      " #   Column             Non-Null Count   Dtype \n",
      "---  ------             --------------   ----- \n",
      " 0   DateCrawled        354369 non-null  object\n",
      " 1   Price              354369 non-null  int64 \n",
      " 2   VehicleType        316879 non-null  object\n",
      " 3   RegistrationYear   354369 non-null  int64 \n",
      " 4   Gearbox            334536 non-null  object\n",
      " 5   Power              354369 non-null  int64 \n",
      " 6   Model              334664 non-null  object\n",
      " 7   Kilometer          354369 non-null  int64 \n",
      " 8   RegistrationMonth  354369 non-null  int64 \n",
      " 9   FuelType           321474 non-null  object\n",
      " 10  Brand              354369 non-null  object\n",
      " 11  Repaired           283215 non-null  object\n",
      " 12  DateCreated        354369 non-null  object\n",
      " 13  NumberOfPictures   354369 non-null  int64 \n",
      " 14  PostalCode         354369 non-null  int64 \n",
      " 15  LastSeen           354369 non-null  object\n",
      "dtypes: int64(7), object(9)\n",
      "memory usage: 43.3+ MB\n"
     ]
    }
   ],
   "source": [
    "autos.info()"
   ]
  },
  {
   "cell_type": "markdown",
   "metadata": {},
   "source": [
    "Видем много пропусков , с типами данными вроде всё хорошо"
   ]
  },
  {
   "cell_type": "code",
   "execution_count": 6,
   "metadata": {
    "scrolled": true
   },
   "outputs": [
    {
     "data": {
      "text/plain": [
       "DateCrawled           0.000000\n",
       "Price                 0.000000\n",
       "RegistrationYear      0.000000\n",
       "Power                 0.000000\n",
       "Kilometer             0.000000\n",
       "RegistrationMonth     0.000000\n",
       "Brand                 0.000000\n",
       "DateCreated           0.000000\n",
       "NumberOfPictures      0.000000\n",
       "PostalCode            0.000000\n",
       "LastSeen              0.000000\n",
       "Model                 5.560588\n",
       "Gearbox               5.596709\n",
       "FuelType              9.282697\n",
       "VehicleType          10.579368\n",
       "Repaired             20.079070\n",
       "dtype: float64"
      ]
     },
     "execution_count": 6,
     "metadata": {},
     "output_type": "execute_result"
    }
   ],
   "source": [
    "(autos.isna().mean()*100).sort_values()"
   ]
  },
  {
   "cell_type": "markdown",
   "metadata": {},
   "source": [
    "Вывели процент пропусков в данных, видем что в колонке ремонта боольше всего пропусков"
   ]
  },
  {
   "cell_type": "markdown",
   "metadata": {},
   "source": [
    "### Смотрим описательную статистику  <a name=\"2.2\">"
   ]
  },
  {
   "cell_type": "code",
   "execution_count": 7,
   "metadata": {},
   "outputs": [
    {
     "data": {
      "text/html": [
       "<div>\n",
       "<style scoped>\n",
       "    .dataframe tbody tr th:only-of-type {\n",
       "        vertical-align: middle;\n",
       "    }\n",
       "\n",
       "    .dataframe tbody tr th {\n",
       "        vertical-align: top;\n",
       "    }\n",
       "\n",
       "    .dataframe thead th {\n",
       "        text-align: right;\n",
       "    }\n",
       "</style>\n",
       "<table border=\"1\" class=\"dataframe\">\n",
       "  <thead>\n",
       "    <tr style=\"text-align: right;\">\n",
       "      <th></th>\n",
       "      <th>Price</th>\n",
       "      <th>RegistrationYear</th>\n",
       "      <th>Power</th>\n",
       "      <th>Kilometer</th>\n",
       "      <th>RegistrationMonth</th>\n",
       "      <th>NumberOfPictures</th>\n",
       "      <th>PostalCode</th>\n",
       "    </tr>\n",
       "  </thead>\n",
       "  <tbody>\n",
       "    <tr>\n",
       "      <th>count</th>\n",
       "      <td>354369.000000</td>\n",
       "      <td>354369.000000</td>\n",
       "      <td>354369.000000</td>\n",
       "      <td>354369.000000</td>\n",
       "      <td>354369.000000</td>\n",
       "      <td>354369.0</td>\n",
       "      <td>354369.000000</td>\n",
       "    </tr>\n",
       "    <tr>\n",
       "      <th>mean</th>\n",
       "      <td>4416.656776</td>\n",
       "      <td>2004.234448</td>\n",
       "      <td>110.094337</td>\n",
       "      <td>128211.172535</td>\n",
       "      <td>5.714645</td>\n",
       "      <td>0.0</td>\n",
       "      <td>50508.689087</td>\n",
       "    </tr>\n",
       "    <tr>\n",
       "      <th>std</th>\n",
       "      <td>4514.158514</td>\n",
       "      <td>90.227958</td>\n",
       "      <td>189.850405</td>\n",
       "      <td>37905.341530</td>\n",
       "      <td>3.726421</td>\n",
       "      <td>0.0</td>\n",
       "      <td>25783.096248</td>\n",
       "    </tr>\n",
       "    <tr>\n",
       "      <th>min</th>\n",
       "      <td>0.000000</td>\n",
       "      <td>1000.000000</td>\n",
       "      <td>0.000000</td>\n",
       "      <td>5000.000000</td>\n",
       "      <td>0.000000</td>\n",
       "      <td>0.0</td>\n",
       "      <td>1067.000000</td>\n",
       "    </tr>\n",
       "    <tr>\n",
       "      <th>25%</th>\n",
       "      <td>1050.000000</td>\n",
       "      <td>1999.000000</td>\n",
       "      <td>69.000000</td>\n",
       "      <td>125000.000000</td>\n",
       "      <td>3.000000</td>\n",
       "      <td>0.0</td>\n",
       "      <td>30165.000000</td>\n",
       "    </tr>\n",
       "    <tr>\n",
       "      <th>50%</th>\n",
       "      <td>2700.000000</td>\n",
       "      <td>2003.000000</td>\n",
       "      <td>105.000000</td>\n",
       "      <td>150000.000000</td>\n",
       "      <td>6.000000</td>\n",
       "      <td>0.0</td>\n",
       "      <td>49413.000000</td>\n",
       "    </tr>\n",
       "    <tr>\n",
       "      <th>75%</th>\n",
       "      <td>6400.000000</td>\n",
       "      <td>2008.000000</td>\n",
       "      <td>143.000000</td>\n",
       "      <td>150000.000000</td>\n",
       "      <td>9.000000</td>\n",
       "      <td>0.0</td>\n",
       "      <td>71083.000000</td>\n",
       "    </tr>\n",
       "    <tr>\n",
       "      <th>max</th>\n",
       "      <td>20000.000000</td>\n",
       "      <td>9999.000000</td>\n",
       "      <td>20000.000000</td>\n",
       "      <td>150000.000000</td>\n",
       "      <td>12.000000</td>\n",
       "      <td>0.0</td>\n",
       "      <td>99998.000000</td>\n",
       "    </tr>\n",
       "  </tbody>\n",
       "</table>\n",
       "</div>"
      ],
      "text/plain": [
       "               Price  RegistrationYear          Power      Kilometer  \\\n",
       "count  354369.000000     354369.000000  354369.000000  354369.000000   \n",
       "mean     4416.656776       2004.234448     110.094337  128211.172535   \n",
       "std      4514.158514         90.227958     189.850405   37905.341530   \n",
       "min         0.000000       1000.000000       0.000000    5000.000000   \n",
       "25%      1050.000000       1999.000000      69.000000  125000.000000   \n",
       "50%      2700.000000       2003.000000     105.000000  150000.000000   \n",
       "75%      6400.000000       2008.000000     143.000000  150000.000000   \n",
       "max     20000.000000       9999.000000   20000.000000  150000.000000   \n",
       "\n",
       "       RegistrationMonth  NumberOfPictures     PostalCode  \n",
       "count      354369.000000          354369.0  354369.000000  \n",
       "mean            5.714645               0.0   50508.689087  \n",
       "std             3.726421               0.0   25783.096248  \n",
       "min             0.000000               0.0    1067.000000  \n",
       "25%             3.000000               0.0   30165.000000  \n",
       "50%             6.000000               0.0   49413.000000  \n",
       "75%             9.000000               0.0   71083.000000  \n",
       "max            12.000000               0.0   99998.000000  "
      ]
     },
     "execution_count": 7,
     "metadata": {},
     "output_type": "execute_result"
    }
   ],
   "source": [
    "autos.describe()"
   ]
  },
  {
   "cell_type": "markdown",
   "metadata": {},
   "source": [
    "Смотрим описательную статистику, можем сделать определенные выводы: \n",
    "- Видим аномалии в цене, потому есть машины за 0 евро, не думаю что отдают машины в дар, будем дальше исправлять это\n",
    "- Год выпуска машины очень странный есть машина года выпуска во времена Рюрика, а так же машины из будущего, явные ошибки\n",
    "- Мощность двигателя тоже с проблемами: емть машины с нулевой мощностью и машины с мощностью пасажирского самолета\n",
    "- Столбец с фотками надо бдует удалить потому что он весь нулевой\n",
    "- Месяц регистрации начинается с нуля, это ошибка"
   ]
  },
  {
   "cell_type": "markdown",
   "metadata": {},
   "source": [
    "### Убираем аномалии <a name=\"2.3\">"
   ]
  },
  {
   "cell_type": "markdown",
   "metadata": {},
   "source": [
    "#### Price"
   ]
  },
  {
   "cell_type": "code",
   "execution_count": 8,
   "metadata": {},
   "outputs": [
    {
     "data": {
      "text/plain": [
       "<AxesSubplot:>"
      ]
     },
     "execution_count": 8,
     "metadata": {},
     "output_type": "execute_result"
    },
    {
     "data": {
      "image/png": "[encoded data removed]",
      "text/plain": [
       "<Figure size 432x288 with 1 Axes>"
      ]
     },
     "metadata": {
      "needs_background": "light"
     },
     "output_type": "display_data"
    }
   ],
   "source": [
    "autos['Price'].hist()"
   ]
  },
  {
   "cell_type": "code",
   "execution_count": 9,
   "metadata": {
    "scrolled": true
   },
   "outputs": [
    {
     "data": {
      "text/html": [
       "<div>\n",
       "<style scoped>\n",
       "    .dataframe tbody tr th:only-of-type {\n",
       "        vertical-align: middle;\n",
       "    }\n",
       "\n",
       "    .dataframe tbody tr th {\n",
       "        vertical-align: top;\n",
       "    }\n",
       "\n",
       "    .dataframe thead th {\n",
       "        text-align: right;\n",
       "    }\n",
       "</style>\n",
       "<table border=\"1\" class=\"dataframe\">\n",
       "  <thead>\n",
       "    <tr style=\"text-align: right;\">\n",
       "      <th></th>\n",
       "      <th>DateCrawled</th>\n",
       "      <th>Price</th>\n",
       "      <th>VehicleType</th>\n",
       "      <th>RegistrationYear</th>\n",
       "      <th>Gearbox</th>\n",
       "      <th>Power</th>\n",
       "      <th>Model</th>\n",
       "      <th>Kilometer</th>\n",
       "      <th>RegistrationMonth</th>\n",
       "      <th>FuelType</th>\n",
       "      <th>Brand</th>\n",
       "      <th>Repaired</th>\n",
       "      <th>DateCreated</th>\n",
       "      <th>NumberOfPictures</th>\n",
       "      <th>PostalCode</th>\n",
       "      <th>LastSeen</th>\n",
       "    </tr>\n",
       "  </thead>\n",
       "  <tbody>\n",
       "    <tr>\n",
       "      <th>7</th>\n",
       "      <td>2016-03-21 18:54:38</td>\n",
       "      <td>0</td>\n",
       "      <td>sedan</td>\n",
       "      <td>1980</td>\n",
       "      <td>manual</td>\n",
       "      <td>50</td>\n",
       "      <td>other</td>\n",
       "      <td>40000</td>\n",
       "      <td>7</td>\n",
       "      <td>petrol</td>\n",
       "      <td>volkswagen</td>\n",
       "      <td>no</td>\n",
       "      <td>2016-03-21 00:00:00</td>\n",
       "      <td>0</td>\n",
       "      <td>19348</td>\n",
       "      <td>2016-03-25 16:47:58</td>\n",
       "    </tr>\n",
       "    <tr>\n",
       "      <th>40</th>\n",
       "      <td>2016-03-26 22:06:17</td>\n",
       "      <td>0</td>\n",
       "      <td>NaN</td>\n",
       "      <td>1990</td>\n",
       "      <td>NaN</td>\n",
       "      <td>0</td>\n",
       "      <td>corsa</td>\n",
       "      <td>150000</td>\n",
       "      <td>1</td>\n",
       "      <td>petrol</td>\n",
       "      <td>opel</td>\n",
       "      <td>NaN</td>\n",
       "      <td>2016-03-26 00:00:00</td>\n",
       "      <td>0</td>\n",
       "      <td>56412</td>\n",
       "      <td>2016-03-27 17:43:34</td>\n",
       "    </tr>\n",
       "    <tr>\n",
       "      <th>59</th>\n",
       "      <td>2016-03-29 15:48:15</td>\n",
       "      <td>1</td>\n",
       "      <td>suv</td>\n",
       "      <td>1994</td>\n",
       "      <td>manual</td>\n",
       "      <td>286</td>\n",
       "      <td>NaN</td>\n",
       "      <td>150000</td>\n",
       "      <td>11</td>\n",
       "      <td>NaN</td>\n",
       "      <td>sonstige_autos</td>\n",
       "      <td>NaN</td>\n",
       "      <td>2016-03-29 00:00:00</td>\n",
       "      <td>0</td>\n",
       "      <td>53721</td>\n",
       "      <td>2016-04-06 01:44:38</td>\n",
       "    </tr>\n",
       "    <tr>\n",
       "      <th>89</th>\n",
       "      <td>2016-03-28 09:37:01</td>\n",
       "      <td>1</td>\n",
       "      <td>sedan</td>\n",
       "      <td>1995</td>\n",
       "      <td>manual</td>\n",
       "      <td>113</td>\n",
       "      <td>e_klasse</td>\n",
       "      <td>150000</td>\n",
       "      <td>4</td>\n",
       "      <td>gasoline</td>\n",
       "      <td>mercedes_benz</td>\n",
       "      <td>no</td>\n",
       "      <td>2016-03-28 00:00:00</td>\n",
       "      <td>0</td>\n",
       "      <td>40589</td>\n",
       "      <td>2016-04-06 12:15:54</td>\n",
       "    </tr>\n",
       "    <tr>\n",
       "      <th>111</th>\n",
       "      <td>2016-03-19 18:40:12</td>\n",
       "      <td>0</td>\n",
       "      <td>NaN</td>\n",
       "      <td>2017</td>\n",
       "      <td>manual</td>\n",
       "      <td>0</td>\n",
       "      <td>golf</td>\n",
       "      <td>5000</td>\n",
       "      <td>12</td>\n",
       "      <td>petrol</td>\n",
       "      <td>volkswagen</td>\n",
       "      <td>NaN</td>\n",
       "      <td>2016-03-19 00:00:00</td>\n",
       "      <td>0</td>\n",
       "      <td>21698</td>\n",
       "      <td>2016-04-01 08:47:05</td>\n",
       "    </tr>\n",
       "  </tbody>\n",
       "</table>\n",
       "</div>"
      ],
      "text/plain": [
       "             DateCrawled  Price VehicleType  RegistrationYear Gearbox  Power  \\\n",
       "7    2016-03-21 18:54:38      0       sedan              1980  manual     50   \n",
       "40   2016-03-26 22:06:17      0         NaN              1990     NaN      0   \n",
       "59   2016-03-29 15:48:15      1         suv              1994  manual    286   \n",
       "89   2016-03-28 09:37:01      1       sedan              1995  manual    113   \n",
       "111  2016-03-19 18:40:12      0         NaN              2017  manual      0   \n",
       "\n",
       "        Model  Kilometer  RegistrationMonth  FuelType           Brand  \\\n",
       "7       other      40000                  7    petrol      volkswagen   \n",
       "40      corsa     150000                  1    petrol            opel   \n",
       "59        NaN     150000                 11       NaN  sonstige_autos   \n",
       "89   e_klasse     150000                  4  gasoline   mercedes_benz   \n",
       "111      golf       5000                 12    petrol      volkswagen   \n",
       "\n",
       "    Repaired          DateCreated  NumberOfPictures  PostalCode  \\\n",
       "7         no  2016-03-21 00:00:00                 0       19348   \n",
       "40       NaN  2016-03-26 00:00:00                 0       56412   \n",
       "59       NaN  2016-03-29 00:00:00                 0       53721   \n",
       "89        no  2016-03-28 00:00:00                 0       40589   \n",
       "111      NaN  2016-03-19 00:00:00                 0       21698   \n",
       "\n",
       "                LastSeen  \n",
       "7    2016-03-25 16:47:58  \n",
       "40   2016-03-27 17:43:34  \n",
       "59   2016-04-06 01:44:38  \n",
       "89   2016-04-06 12:15:54  \n",
       "111  2016-04-01 08:47:05  "
      ]
     },
     "execution_count": 9,
     "metadata": {},
     "output_type": "execute_result"
    }
   ],
   "source": [
    "autos.query('Price<100').head(5)"
   ]
  },
  {
   "cell_type": "markdown",
   "metadata": {},
   "source": [
    "Убираем анкеты со стоимотстью ниже 100 евро, думаю что меньше 100 евро не найти машину"
   ]
  },
  {
   "cell_type": "code",
   "execution_count": 10,
   "metadata": {},
   "outputs": [],
   "source": [
    "autos=autos.query('Price>100')"
   ]
  },
  {
   "cell_type": "markdown",
   "metadata": {},
   "source": [
    " #### RegistrationYear"
   ]
  },
  {
   "cell_type": "code",
   "execution_count": 11,
   "metadata": {
    "scrolled": true
   },
   "outputs": [
    {
     "data": {
      "text/html": [
       "<div>\n",
       "<style scoped>\n",
       "    .dataframe tbody tr th:only-of-type {\n",
       "        vertical-align: middle;\n",
       "    }\n",
       "\n",
       "    .dataframe tbody tr th {\n",
       "        vertical-align: top;\n",
       "    }\n",
       "\n",
       "    .dataframe thead th {\n",
       "        text-align: right;\n",
       "    }\n",
       "</style>\n",
       "<table border=\"1\" class=\"dataframe\">\n",
       "  <thead>\n",
       "    <tr style=\"text-align: right;\">\n",
       "      <th></th>\n",
       "      <th>DateCrawled</th>\n",
       "      <th>Price</th>\n",
       "      <th>VehicleType</th>\n",
       "      <th>RegistrationYear</th>\n",
       "      <th>Gearbox</th>\n",
       "      <th>Power</th>\n",
       "      <th>Model</th>\n",
       "      <th>Kilometer</th>\n",
       "      <th>RegistrationMonth</th>\n",
       "      <th>FuelType</th>\n",
       "      <th>Brand</th>\n",
       "      <th>Repaired</th>\n",
       "      <th>DateCreated</th>\n",
       "      <th>NumberOfPictures</th>\n",
       "      <th>PostalCode</th>\n",
       "      <th>LastSeen</th>\n",
       "    </tr>\n",
       "  </thead>\n",
       "  <tbody>\n",
       "    <tr>\n",
       "      <th>15</th>\n",
       "      <td>2016-03-11 21:39:15</td>\n",
       "      <td>450</td>\n",
       "      <td>small</td>\n",
       "      <td>1910</td>\n",
       "      <td>NaN</td>\n",
       "      <td>0</td>\n",
       "      <td>ka</td>\n",
       "      <td>5000</td>\n",
       "      <td>0</td>\n",
       "      <td>petrol</td>\n",
       "      <td>ford</td>\n",
       "      <td>NaN</td>\n",
       "      <td>2016-03-11 00:00:00</td>\n",
       "      <td>0</td>\n",
       "      <td>24148</td>\n",
       "      <td>2016-03-19 08:46:47</td>\n",
       "    </tr>\n",
       "    <tr>\n",
       "      <th>1928</th>\n",
       "      <td>2016-03-25 15:58:21</td>\n",
       "      <td>7000</td>\n",
       "      <td>suv</td>\n",
       "      <td>1945</td>\n",
       "      <td>manual</td>\n",
       "      <td>48</td>\n",
       "      <td>other</td>\n",
       "      <td>150000</td>\n",
       "      <td>2</td>\n",
       "      <td>petrol</td>\n",
       "      <td>volkswagen</td>\n",
       "      <td>no</td>\n",
       "      <td>2016-03-25 00:00:00</td>\n",
       "      <td>0</td>\n",
       "      <td>58135</td>\n",
       "      <td>2016-03-25 15:58:21</td>\n",
       "    </tr>\n",
       "    <tr>\n",
       "      <th>2273</th>\n",
       "      <td>2016-03-15 21:44:32</td>\n",
       "      <td>1800</td>\n",
       "      <td>convertible</td>\n",
       "      <td>1925</td>\n",
       "      <td>NaN</td>\n",
       "      <td>0</td>\n",
       "      <td>NaN</td>\n",
       "      <td>5000</td>\n",
       "      <td>1</td>\n",
       "      <td>NaN</td>\n",
       "      <td>sonstige_autos</td>\n",
       "      <td>no</td>\n",
       "      <td>2016-03-15 00:00:00</td>\n",
       "      <td>0</td>\n",
       "      <td>79288</td>\n",
       "      <td>2016-04-07 05:15:34</td>\n",
       "    </tr>\n",
       "    <tr>\n",
       "      <th>3333</th>\n",
       "      <td>2016-03-15 21:36:20</td>\n",
       "      <td>10500</td>\n",
       "      <td>sedan</td>\n",
       "      <td>1955</td>\n",
       "      <td>manual</td>\n",
       "      <td>30</td>\n",
       "      <td>other</td>\n",
       "      <td>60000</td>\n",
       "      <td>0</td>\n",
       "      <td>petrol</td>\n",
       "      <td>ford</td>\n",
       "      <td>NaN</td>\n",
       "      <td>2016-03-15 00:00:00</td>\n",
       "      <td>0</td>\n",
       "      <td>53498</td>\n",
       "      <td>2016-04-07 08:16:11</td>\n",
       "    </tr>\n",
       "    <tr>\n",
       "      <th>6977</th>\n",
       "      <td>2016-03-24 08:37:22</td>\n",
       "      <td>135</td>\n",
       "      <td>NaN</td>\n",
       "      <td>1910</td>\n",
       "      <td>NaN</td>\n",
       "      <td>0</td>\n",
       "      <td>NaN</td>\n",
       "      <td>5000</td>\n",
       "      <td>0</td>\n",
       "      <td>NaN</td>\n",
       "      <td>opel</td>\n",
       "      <td>NaN</td>\n",
       "      <td>2016-03-24 00:00:00</td>\n",
       "      <td>0</td>\n",
       "      <td>19374</td>\n",
       "      <td>2016-04-06 20:46:08</td>\n",
       "    </tr>\n",
       "  </tbody>\n",
       "</table>\n",
       "</div>"
      ],
      "text/plain": [
       "              DateCrawled  Price  VehicleType  RegistrationYear Gearbox  \\\n",
       "15    2016-03-11 21:39:15    450        small              1910     NaN   \n",
       "1928  2016-03-25 15:58:21   7000          suv              1945  manual   \n",
       "2273  2016-03-15 21:44:32   1800  convertible              1925     NaN   \n",
       "3333  2016-03-15 21:36:20  10500        sedan              1955  manual   \n",
       "6977  2016-03-24 08:37:22    135          NaN              1910     NaN   \n",
       "\n",
       "      Power  Model  Kilometer  RegistrationMonth FuelType           Brand  \\\n",
       "15        0     ka       5000                  0   petrol            ford   \n",
       "1928     48  other     150000                  2   petrol      volkswagen   \n",
       "2273      0    NaN       5000                  1      NaN  sonstige_autos   \n",
       "3333     30  other      60000                  0   petrol            ford   \n",
       "6977      0    NaN       5000                  0      NaN            opel   \n",
       "\n",
       "     Repaired          DateCreated  NumberOfPictures  PostalCode  \\\n",
       "15        NaN  2016-03-11 00:00:00                 0       24148   \n",
       "1928       no  2016-03-25 00:00:00                 0       58135   \n",
       "2273       no  2016-03-15 00:00:00                 0       79288   \n",
       "3333      NaN  2016-03-15 00:00:00                 0       53498   \n",
       "6977      NaN  2016-03-24 00:00:00                 0       19374   \n",
       "\n",
       "                 LastSeen  \n",
       "15    2016-03-19 08:46:47  \n",
       "1928  2016-03-25 15:58:21  \n",
       "2273  2016-04-07 05:15:34  \n",
       "3333  2016-04-07 08:16:11  \n",
       "6977  2016-04-06 20:46:08  "
      ]
     },
     "execution_count": 11,
     "metadata": {},
     "output_type": "execute_result"
    }
   ],
   "source": [
    "autos.query('RegistrationYear<1960').head(5)"
   ]
  },
  {
   "cell_type": "markdown",
   "metadata": {},
   "source": [
    "Не думаю что есть раритеты старше 60 года, поэтому убираем их, а так же убираем машины из будущего"
   ]
  },
  {
   "cell_type": "code",
   "execution_count": 12,
   "metadata": {
    "scrolled": true
   },
   "outputs": [
    {
     "data": {
      "text/html": [
       "<div>\n",
       "<style scoped>\n",
       "    .dataframe tbody tr th:only-of-type {\n",
       "        vertical-align: middle;\n",
       "    }\n",
       "\n",
       "    .dataframe tbody tr th {\n",
       "        vertical-align: top;\n",
       "    }\n",
       "\n",
       "    .dataframe thead th {\n",
       "        text-align: right;\n",
       "    }\n",
       "</style>\n",
       "<table border=\"1\" class=\"dataframe\">\n",
       "  <thead>\n",
       "    <tr style=\"text-align: right;\">\n",
       "      <th></th>\n",
       "      <th>DateCrawled</th>\n",
       "      <th>Price</th>\n",
       "      <th>VehicleType</th>\n",
       "      <th>RegistrationYear</th>\n",
       "      <th>Gearbox</th>\n",
       "      <th>Power</th>\n",
       "      <th>Model</th>\n",
       "      <th>Kilometer</th>\n",
       "      <th>RegistrationMonth</th>\n",
       "      <th>FuelType</th>\n",
       "      <th>Brand</th>\n",
       "      <th>Repaired</th>\n",
       "      <th>DateCreated</th>\n",
       "      <th>NumberOfPictures</th>\n",
       "      <th>PostalCode</th>\n",
       "      <th>LastSeen</th>\n",
       "    </tr>\n",
       "  </thead>\n",
       "  <tbody>\n",
       "    <tr>\n",
       "      <th>334967</th>\n",
       "      <td>2016-03-20 17:53:51</td>\n",
       "      <td>12000</td>\n",
       "      <td>NaN</td>\n",
       "      <td>4000</td>\n",
       "      <td>NaN</td>\n",
       "      <td>500</td>\n",
       "      <td>golf</td>\n",
       "      <td>5000</td>\n",
       "      <td>0</td>\n",
       "      <td>NaN</td>\n",
       "      <td>volkswagen</td>\n",
       "      <td>no</td>\n",
       "      <td>2016-03-20 00:00:00</td>\n",
       "      <td>0</td>\n",
       "      <td>57392</td>\n",
       "      <td>2016-04-07 00:46:30</td>\n",
       "    </tr>\n",
       "  </tbody>\n",
       "</table>\n",
       "</div>"
      ],
      "text/plain": [
       "                DateCrawled  Price VehicleType  RegistrationYear Gearbox  \\\n",
       "334967  2016-03-20 17:53:51  12000         NaN              4000     NaN   \n",
       "\n",
       "        Power Model  Kilometer  RegistrationMonth FuelType       Brand  \\\n",
       "334967    500  golf       5000                  0      NaN  volkswagen   \n",
       "\n",
       "       Repaired          DateCreated  NumberOfPictures  PostalCode  \\\n",
       "334967       no  2016-03-20 00:00:00                 0       57392   \n",
       "\n",
       "                   LastSeen  \n",
       "334967  2016-04-07 00:46:30  "
      ]
     },
     "execution_count": 12,
     "metadata": {},
     "output_type": "execute_result"
    }
   ],
   "source": [
    "autos.query('RegistrationYear>2020').sample()"
   ]
  },
  {
   "cell_type": "code",
   "execution_count": 13,
   "metadata": {},
   "outputs": [
    {
     "name": "stderr",
     "output_type": "stream",
     "text": [
      "/tmp/ipykernel_514/2361620765.py:1: SettingWithCopyWarning: \n",
      "A value is trying to be set on a copy of a slice from a DataFrame.\n",
      "Try using .loc[row_indexer,col_indexer] = value instead\n",
      "\n",
      "See the caveats in the documentation: https://pandas.pydata.org/pandas-docs/stable/user_guide/indexing.html#returning-a-view-versus-a-copy\n",
      "  autos['DateCrawled'] = pd.to_datetime(autos['DateCrawled'])\n"
     ]
    }
   ],
   "source": [
    "autos['DateCrawled'] = pd.to_datetime(autos['DateCrawled'])\n",
    "\n",
    "last_day = autos['DateCrawled'].max().date()\n"
   ]
  },
  {
   "cell_type": "code",
   "execution_count": 14,
   "metadata": {},
   "outputs": [
    {
     "name": "stderr",
     "output_type": "stream",
     "text": [
      "/opt/conda/lib/python3.9/site-packages/pandas/core/indexing.py:1720: SettingWithCopyWarning: \n",
      "A value is trying to be set on a copy of a slice from a DataFrame.\n",
      "Try using .loc[row_indexer,col_indexer] = value instead\n",
      "\n",
      "See the caveats in the documentation: https://pandas.pydata.org/pandas-docs/stable/user_guide/indexing.html#returning-a-view-versus-a-copy\n",
      "  self._setitem_single_column(loc, value, pi)\n"
     ]
    }
   ],
   "source": [
    "autos.loc[autos['RegistrationYear'] > last_day.year, 'RegistrationYear'] = last_day.year\n"
   ]
  },
  {
   "cell_type": "code",
   "execution_count": 15,
   "metadata": {},
   "outputs": [],
   "source": [
    "autos=autos.query('RegistrationYear>1960')"
   ]
  },
  {
   "cell_type": "markdown",
   "metadata": {},
   "source": [
    "<div class=\"alert alert-success\">\n",
    "<b>КОММЕНТАРИЙ V2</b> \t\n",
    "\n",
    "Исправлено.\n",
    "</div>"
   ]
  },
  {
   "cell_type": "code",
   "execution_count": 16,
   "metadata": {
    "scrolled": true
   },
   "outputs": [
    {
     "data": {
      "text/plain": [
       "<AxesSubplot:>"
      ]
     },
     "execution_count": 16,
     "metadata": {},
     "output_type": "execute_result"
    },
    {
     "data": {
      "image/png": "[encoded data removed]",
      "text/plain": [
       "<Figure size 432x288 with 1 Axes>"
      ]
     },
     "metadata": {
      "needs_background": "light"
     },
     "output_type": "display_data"
    }
   ],
   "source": [
    "autos['RegistrationYear'].hist(bins=20)"
   ]
  },
  {
   "cell_type": "markdown",
   "metadata": {},
   "source": [
    "#### Power"
   ]
  },
  {
   "cell_type": "code",
   "execution_count": 17,
   "metadata": {},
   "outputs": [],
   "source": [
    "autos= autos.query('Power>=20 and Power<=600')\n",
    "autos= autos.query('RegistrationMonth>0')\n"
   ]
  },
  {
   "cell_type": "markdown",
   "metadata": {},
   "source": [
    "Убираем аномальные значение мощности"
   ]
  },
  {
   "cell_type": "markdown",
   "metadata": {},
   "source": [
    "### Смотрим и исследуем датафрейм autos по гистограммам <a name=\"3.1\">"
   ]
  },
  {
   "cell_type": "code",
   "execution_count": 18,
   "metadata": {
    "scrolled": false
   },
   "outputs": [
    {
     "data": {
      "image/png": "[encoded data removed]",
      "text/plain": [
       "<Figure size 720x720 with 4 Axes>"
      ]
     },
     "metadata": {},
     "output_type": "display_data"
    }
   ],
   "source": [
    "def aotos_graph(column, title='', label='', ax=None):\n",
    "    if ax is None:\n",
    "        plt.figure(figsize=(5, 5))\n",
    "    else:\n",
    "        plt.sca(ax)\n",
    "\n",
    "\n",
    "    plt.title(title)\n",
    "    counts = autos[column].value_counts()\n",
    "    counts.plot(kind='pie', autopct='%1.1f%%', startangle=140)\n",
    "    plt.title(title)\n",
    "    plt.ylabel(label)\n",
    "\n",
    "columns_to_plot = ['Gearbox', 'FuelType', \n",
    "                   'Repaired','VehicleType'  ]\n",
    "num_columns = len(columns_to_plot)\n",
    "num_rows = (num_columns + 1) // 2  \n",
    "\n",
    "fig, axes = plt.subplots(num_rows, 2, figsize=(10, num_rows * 5))\n",
    "\n",
    "axes = axes.flatten()\n",
    "\n",
    "for i, column in enumerate(columns_to_plot):\n",
    "    aotos_graph(column, title=f'Соотношение {column}', label=' ', ax=axes[i])\n",
    "\n",
    "for j in range(i + 1, len(axes)):\n",
    "    fig.delaxes(axes[j])\n",
    "\n",
    "plt.tight_layout()\n",
    "plt.show()"
   ]
  },
  {
   "cell_type": "markdown",
   "metadata": {},
   "source": [
    "Рассмотрим категориальные графики:\n",
    "- В основном на рынке продают машины с механичческой коробкой передач\n",
    "- Машины в основном продаются без ремонта\n",
    "- В основном машины на бензине, а дальше идут дизель и бензин\n",
    "- В основном машины на рынке предствлены седанами, универсалами или маленькими машинами"
   ]
  },
  {
   "cell_type": "markdown",
   "metadata": {},
   "source": [
    "##### Из-за бооьшого количества брендов и моделей я сделал диаграмму на которой будет показаны топ 7 самых популярных брендов или моделей, а остальные будут добавлены в категорию ОСТАЛЬНЫЕ"
   ]
  },
  {
   "cell_type": "code",
   "execution_count": 19,
   "metadata": {
    "scrolled": false
   },
   "outputs": [
    {
     "data": {
      "image/png": "[encoded data removed]",
      "text/plain": [
       "<Figure size 576x576 with 1 Axes>"
      ]
     },
     "metadata": {},
     "output_type": "display_data"
    }
   ],
   "source": [
    "top_brands = autos['Brand'].value_counts().head(7) \n",
    "other_brands_count = autos['Brand'].value_counts().sum() - top_brands.sum()  \n",
    "other_brands = pd.Series(other_brands_count, index=['Остальные']) \n",
    "\n",
    "brands_combined = top_brands.append(other_brands)\n",
    "\n",
    "plt.figure(figsize=(8, 8))\n",
    "plt.pie(brands_combined, labels=brands_combined.index, autopct='%1.1f%%', startangle=140)\n",
    "plt.title('Топ 7 брендов автомобилей')\n",
    "plt.show()"
   ]
  },
  {
   "cell_type": "markdown",
   "metadata": {},
   "source": [
    "Видно что рынок немецкий или австрийский по моим предположениям, в основном люди продают и покупают немецкие автомобили, вольсваген, бмв, мерседес, ауди, так же идим большое процент фрацузских опелей"
   ]
  },
  {
   "cell_type": "code",
   "execution_count": 20,
   "metadata": {
    "scrolled": false
   },
   "outputs": [
    {
     "data": {
      "image/png": "[encoded data removed]",
      "text/plain": [
       "<Figure size 576x576 with 1 Axes>"
      ]
     },
     "metadata": {},
     "output_type": "display_data"
    }
   ],
   "source": [
    "top_brands = autos['Model'].value_counts().head(7) \n",
    "other_brands_count = autos['Model'].value_counts().sum() - top_brands.sum() \n",
    "other_brands = pd.Series(other_brands_count, index=['Остальные']) \n",
    "\n",
    "brands_combined = top_brands.append(other_brands)\n",
    "\n",
    "plt.figure(figsize=(8, 8))\n",
    "plt.pie(brands_combined, labels=brands_combined.index, autopct='%1.1f%%', startangle=140)\n",
    "plt.title('Топ 10 моделей автомобилей')\n",
    "plt.show()"
   ]
  },
  {
   "cell_type": "markdown",
   "metadata": {},
   "source": [
    "Среди моделей видим самые популяерные в виде гольфа, поло, астра, корса"
   ]
  },
  {
   "cell_type": "code",
   "execution_count": 21,
   "metadata": {},
   "outputs": [
    {
     "name": "stderr",
     "output_type": "stream",
     "text": [
      "/opt/conda/lib/python3.9/site-packages/seaborn/_decorators.py:36: FutureWarning: Pass the following variable as a keyword arg: x. From version 0.12, the only valid positional argument will be `data`, and passing other arguments without an explicit keyword will result in an error or misinterpretation.\n",
      "  warnings.warn(\n",
      "/opt/conda/lib/python3.9/site-packages/seaborn/_core.py:1319: UserWarning: Vertical orientation ignored with only `x` specified.\n",
      "  warnings.warn(single_var_warning.format(\"Vertical\", \"x\"))\n"
     ]
    },
    {
     "data": {
      "image/png": "[encoded data removed]",
      "text/plain": [
       "<Figure size 864x432 with 2 Axes>"
      ]
     },
     "metadata": {
      "needs_background": "light"
     },
     "output_type": "display_data"
    },
    {
     "name": "stderr",
     "output_type": "stream",
     "text": [
      "/opt/conda/lib/python3.9/site-packages/seaborn/_decorators.py:36: FutureWarning: Pass the following variable as a keyword arg: x. From version 0.12, the only valid positional argument will be `data`, and passing other arguments without an explicit keyword will result in an error or misinterpretation.\n",
      "  warnings.warn(\n",
      "/opt/conda/lib/python3.9/site-packages/seaborn/_core.py:1319: UserWarning: Vertical orientation ignored with only `x` specified.\n",
      "  warnings.warn(single_var_warning.format(\"Vertical\", \"x\"))\n"
     ]
    },
    {
     "data": {
      "image/png": "[encoded data removed]",
      "text/plain": [
       "<Figure size 864x432 with 2 Axes>"
      ]
     },
     "metadata": {
      "needs_background": "light"
     },
     "output_type": "display_data"
    },
    {
     "name": "stderr",
     "output_type": "stream",
     "text": [
      "/opt/conda/lib/python3.9/site-packages/seaborn/_decorators.py:36: FutureWarning: Pass the following variable as a keyword arg: x. From version 0.12, the only valid positional argument will be `data`, and passing other arguments without an explicit keyword will result in an error or misinterpretation.\n",
      "  warnings.warn(\n",
      "/opt/conda/lib/python3.9/site-packages/seaborn/_core.py:1319: UserWarning: Vertical orientation ignored with only `x` specified.\n",
      "  warnings.warn(single_var_warning.format(\"Vertical\", \"x\"))\n"
     ]
    },
    {
     "data": {
      "image/png": "[encoded data removed]",
      "text/plain": [
       "<Figure size 864x432 with 2 Axes>"
      ]
     },
     "metadata": {
      "needs_background": "light"
     },
     "output_type": "display_data"
    }
   ],
   "source": [
    "def plot_histogram_and_boxplot(data, column, title='', xlabel='', ylabel=''):\n",
    "    plt.figure(figsize=(12, 6))\n",
    "    plt.subplot(1, 2, 1)\n",
    "    sns.histplot(data[column], bins=30, kde=True)\n",
    "    plt.title(title)\n",
    "    plt.xlabel(xlabel)\n",
    "    plt.ylabel(ylabel)\n",
    "\n",
    "    plt.subplot(1, 2, 2)\n",
    "    sns.boxplot(data[column], orient='v')\n",
    "    plt.title('Boxplot')\n",
    "    plt.ylabel(ylabel)\n",
    "    \n",
    "    plt.tight_layout()\n",
    "    plt.show()\n",
    "\n",
    "columns_to_plot = ['Price', 'Power', 'Kilometer']\n",
    "title_to_plot = ['Гистограмма Цены', 'Гистограмма мощности', 'Гистограмма километража']\n",
    "xlabel_to_plot = ['Цена', 'Мощность', 'Киллометраж']\n",
    "ylabel_to_plot = ['Количество', 'Количество', 'Количество']\n",
    "\n",
    "for column, title, xlabel, ylabel in zip(columns_to_plot, title_to_plot, xlabel_to_plot, ylabel_to_plot):\n",
    "    plot_histogram_and_boxplot(autos, column, title=title, xlabel=xlabel, ylabel=ylabel)"
   ]
  },
  {
   "cell_type": "markdown",
   "metadata": {},
   "source": [
    "РАссмотрим количесвтенные гистограммы:\n",
    "- Гистограмма цены, видно что медиана цены где-то около 3 тысяч долларов, на рынке много дешевых поддержанных машин, чем больше цена тем гораздо меньше машин\n",
    "- С гистограммой мощности всё хорошо, видно, что в оновном люди ездят на малолитражках с мощностью 100-120 лошадинных сил, а двигатели мощнее встречаются всё реже и реже\n",
    "- Гистограмма километража получилось дискретной, видимо на сайте нельзя самомму выставить киллометраж"
   ]
  },
  {
   "cell_type": "code",
   "execution_count": 22,
   "metadata": {},
   "outputs": [],
   "source": [
    "autos.drop(['LastSeen', 'DateCrawled', 'NumberOfPictures', 'DateCreated', 'PostalCode', 'RegistrationMonth','Brand'], inplace=True, axis=1)"
   ]
  },
  {
   "cell_type": "markdown",
   "metadata": {},
   "source": [
    "Предположил, что для постороения модели не виляют такие показатели как последняя активность покупателя, дата создания объявления, число фоток( у всех по 0 фоток), дата скачивания анкеты из базы, почтовый индекс, и месяц регистрации, нужен только год\n"
   ]
  },
  {
   "cell_type": "markdown",
   "metadata": {},
   "source": [
    "#### Проверка на дубликаты "
   ]
  },
  {
   "cell_type": "code",
   "execution_count": 23,
   "metadata": {
    "scrolled": true
   },
   "outputs": [
    {
     "data": {
      "text/plain": [
       "37766"
      ]
     },
     "execution_count": 23,
     "metadata": {},
     "output_type": "execute_result"
    }
   ],
   "source": [
    "autos.duplicated().sum()"
   ]
  },
  {
   "cell_type": "code",
   "execution_count": 24,
   "metadata": {
    "scrolled": true
   },
   "outputs": [
    {
     "data": {
      "text/html": [
       "<div>\n",
       "<style scoped>\n",
       "    .dataframe tbody tr th:only-of-type {\n",
       "        vertical-align: middle;\n",
       "    }\n",
       "\n",
       "    .dataframe tbody tr th {\n",
       "        vertical-align: top;\n",
       "    }\n",
       "\n",
       "    .dataframe thead th {\n",
       "        text-align: right;\n",
       "    }\n",
       "</style>\n",
       "<table border=\"1\" class=\"dataframe\">\n",
       "  <thead>\n",
       "    <tr style=\"text-align: right;\">\n",
       "      <th></th>\n",
       "      <th>Price</th>\n",
       "      <th>VehicleType</th>\n",
       "      <th>RegistrationYear</th>\n",
       "      <th>Gearbox</th>\n",
       "      <th>Power</th>\n",
       "      <th>Model</th>\n",
       "      <th>Kilometer</th>\n",
       "      <th>FuelType</th>\n",
       "      <th>Repaired</th>\n",
       "    </tr>\n",
       "  </thead>\n",
       "  <tbody>\n",
       "    <tr>\n",
       "      <th>1</th>\n",
       "      <td>18300</td>\n",
       "      <td>coupe</td>\n",
       "      <td>2011</td>\n",
       "      <td>manual</td>\n",
       "      <td>190</td>\n",
       "      <td>NaN</td>\n",
       "      <td>125000</td>\n",
       "      <td>gasoline</td>\n",
       "      <td>yes</td>\n",
       "    </tr>\n",
       "    <tr>\n",
       "      <th>2</th>\n",
       "      <td>9800</td>\n",
       "      <td>suv</td>\n",
       "      <td>2004</td>\n",
       "      <td>auto</td>\n",
       "      <td>163</td>\n",
       "      <td>grand</td>\n",
       "      <td>125000</td>\n",
       "      <td>gasoline</td>\n",
       "      <td>NaN</td>\n",
       "    </tr>\n",
       "    <tr>\n",
       "      <th>3</th>\n",
       "      <td>1500</td>\n",
       "      <td>small</td>\n",
       "      <td>2001</td>\n",
       "      <td>manual</td>\n",
       "      <td>75</td>\n",
       "      <td>golf</td>\n",
       "      <td>150000</td>\n",
       "      <td>petrol</td>\n",
       "      <td>no</td>\n",
       "    </tr>\n",
       "    <tr>\n",
       "      <th>4</th>\n",
       "      <td>3600</td>\n",
       "      <td>small</td>\n",
       "      <td>2008</td>\n",
       "      <td>manual</td>\n",
       "      <td>69</td>\n",
       "      <td>fabia</td>\n",
       "      <td>90000</td>\n",
       "      <td>gasoline</td>\n",
       "      <td>no</td>\n",
       "    </tr>\n",
       "    <tr>\n",
       "      <th>5</th>\n",
       "      <td>650</td>\n",
       "      <td>sedan</td>\n",
       "      <td>1995</td>\n",
       "      <td>manual</td>\n",
       "      <td>102</td>\n",
       "      <td>3er</td>\n",
       "      <td>150000</td>\n",
       "      <td>petrol</td>\n",
       "      <td>yes</td>\n",
       "    </tr>\n",
       "    <tr>\n",
       "      <th>...</th>\n",
       "      <td>...</td>\n",
       "      <td>...</td>\n",
       "      <td>...</td>\n",
       "      <td>...</td>\n",
       "      <td>...</td>\n",
       "      <td>...</td>\n",
       "      <td>...</td>\n",
       "      <td>...</td>\n",
       "      <td>...</td>\n",
       "    </tr>\n",
       "    <tr>\n",
       "      <th>354361</th>\n",
       "      <td>5250</td>\n",
       "      <td>NaN</td>\n",
       "      <td>2016</td>\n",
       "      <td>auto</td>\n",
       "      <td>150</td>\n",
       "      <td>159</td>\n",
       "      <td>150000</td>\n",
       "      <td>NaN</td>\n",
       "      <td>no</td>\n",
       "    </tr>\n",
       "    <tr>\n",
       "      <th>354362</th>\n",
       "      <td>3200</td>\n",
       "      <td>sedan</td>\n",
       "      <td>2004</td>\n",
       "      <td>manual</td>\n",
       "      <td>225</td>\n",
       "      <td>leon</td>\n",
       "      <td>150000</td>\n",
       "      <td>petrol</td>\n",
       "      <td>yes</td>\n",
       "    </tr>\n",
       "    <tr>\n",
       "      <th>354366</th>\n",
       "      <td>1199</td>\n",
       "      <td>convertible</td>\n",
       "      <td>2000</td>\n",
       "      <td>auto</td>\n",
       "      <td>101</td>\n",
       "      <td>fortwo</td>\n",
       "      <td>125000</td>\n",
       "      <td>petrol</td>\n",
       "      <td>no</td>\n",
       "    </tr>\n",
       "    <tr>\n",
       "      <th>354367</th>\n",
       "      <td>9200</td>\n",
       "      <td>bus</td>\n",
       "      <td>1996</td>\n",
       "      <td>manual</td>\n",
       "      <td>102</td>\n",
       "      <td>transporter</td>\n",
       "      <td>150000</td>\n",
       "      <td>gasoline</td>\n",
       "      <td>no</td>\n",
       "    </tr>\n",
       "    <tr>\n",
       "      <th>354368</th>\n",
       "      <td>3400</td>\n",
       "      <td>wagon</td>\n",
       "      <td>2002</td>\n",
       "      <td>manual</td>\n",
       "      <td>100</td>\n",
       "      <td>golf</td>\n",
       "      <td>150000</td>\n",
       "      <td>gasoline</td>\n",
       "      <td>NaN</td>\n",
       "    </tr>\n",
       "  </tbody>\n",
       "</table>\n",
       "<p>284979 rows × 9 columns</p>\n",
       "</div>"
      ],
      "text/plain": [
       "        Price  VehicleType  RegistrationYear Gearbox  Power        Model  \\\n",
       "1       18300        coupe              2011  manual    190          NaN   \n",
       "2        9800          suv              2004    auto    163        grand   \n",
       "3        1500        small              2001  manual     75         golf   \n",
       "4        3600        small              2008  manual     69        fabia   \n",
       "5         650        sedan              1995  manual    102          3er   \n",
       "...       ...          ...               ...     ...    ...          ...   \n",
       "354361   5250          NaN              2016    auto    150          159   \n",
       "354362   3200        sedan              2004  manual    225         leon   \n",
       "354366   1199  convertible              2000    auto    101       fortwo   \n",
       "354367   9200          bus              1996  manual    102  transporter   \n",
       "354368   3400        wagon              2002  manual    100         golf   \n",
       "\n",
       "        Kilometer  FuelType Repaired  \n",
       "1          125000  gasoline      yes  \n",
       "2          125000  gasoline      NaN  \n",
       "3          150000    petrol       no  \n",
       "4           90000  gasoline       no  \n",
       "5          150000    petrol      yes  \n",
       "...           ...       ...      ...  \n",
       "354361     150000       NaN       no  \n",
       "354362     150000    petrol      yes  \n",
       "354366     125000    petrol       no  \n",
       "354367     150000  gasoline       no  \n",
       "354368     150000  gasoline      NaN  \n",
       "\n",
       "[284979 rows x 9 columns]"
      ]
     },
     "execution_count": 24,
     "metadata": {},
     "output_type": "execute_result"
    }
   ],
   "source": [
    "autos"
   ]
  },
  {
   "cell_type": "markdown",
   "metadata": {},
   "source": [
    "Вот такое вот количество дубликатов после удаления колонок, у нас 10% дубликатов, довольно много, но их надо удлаить чтобы построить модель."
   ]
  },
  {
   "cell_type": "code",
   "execution_count": 25,
   "metadata": {},
   "outputs": [],
   "source": [
    "autos=autos.drop_duplicates()"
   ]
  },
  {
   "cell_type": "markdown",
   "metadata": {},
   "source": [
    "После удаления колонок, удалим дубликаты"
   ]
  },
  {
   "cell_type": "markdown",
   "metadata": {},
   "source": [
    "### Построение матрицы корреляцииm<a name=\"3.4\">"
   ]
  },
  {
   "cell_type": "code",
   "execution_count": 26,
   "metadata": {},
   "outputs": [],
   "source": [
    "correlation_matrix = autos.phik_matrix(interval_cols=['Price', 'Power'])"
   ]
  },
  {
   "cell_type": "code",
   "execution_count": 27,
   "metadata": {},
   "outputs": [
    {
     "data": {
      "text/plain": [
       "<AxesSubplot:>"
      ]
     },
     "execution_count": 27,
     "metadata": {},
     "output_type": "execute_result"
    },
    {
     "data": {
      "image/png": "[encoded data removed]",
      "text/plain": [
       "<Figure size 432x288 with 2 Axes>"
      ]
     },
     "metadata": {
      "needs_background": "light"
     },
     "output_type": "display_data"
    }
   ],
   "source": [
    " sns.heatmap(correlation_matrix, annot=True, cmap=\"coolwarm\", fmt=\".2f\")"
   ]
  },
  {
   "cell_type": "markdown",
   "metadata": {},
   "source": [
    "#### Рассмотрим матрицу корреляции \n",
    "Наиболее значимые корреляции:\n",
    "- Цена: Положительная корреляция: Год регистрации, Мощность, Модель\n",
    "\n",
    "- Год регистрации Положительная корреляция: Мощность, Пробег\n",
    "- Коробка передач:Положительная корреляция: Цена, модель\n",
    "- Бренд и тип машины и бренд и год выпуска.\n",
    "### Возник вопрос: что делать с брендом и моделью, что из этого стоит удалить.?\n"
   ]
  },
  {
   "cell_type": "markdown",
   "metadata": {},
   "source": [
    "## Вывод по первой главе:  <a name=\"3.5\">\n",
    "\n",
    "\n",
    "1. **Пропуски и типы данных:** \n",
    "   - Обнаружены пропущенные значения в некоторых столбцах, однако типы данных в основном соответствуют ожиданиям.\n",
    "\n",
    "2. **Аномалии в данных:**\n",
    "   - В данных наблюдаются аномалии в столбцах с ценой, годом выпуска и мощностью двигателя, что требует дальнейшей обработки.\n",
    "   - Из данных удаляются аномальные значения и дубликаты, а также некорректные столбцы, такие как столбец с фотографиями.\n",
    "   - Также удаляются анкеты с ценой ниже 100 евро и раритетные машины старше 60 лет.\n",
    "   - Проводится обработка категориальных данных и приведение их к удобному для анализа формату.\n",
    "\n",
    "4. **Анализ категориальных данных:**\n",
    "   - На рынке преобладают автомобили с механической коробкой передач, большинство машин продаются без ремонта и на бензине.\n",
    "   - Популярными моделями являются Volkswagen Golf, Volkswagen Polo, Opel Astra и Opel Corsa.\n",
    "   - Большинство автомобилей на рынке - немецкого производства, также есть представители французских марок.\n",
    "\n",
    "5. **Анализ количественных данных:**\n",
    "   - Медианная цена автомобиля составляет около 3 тысяч долларов, при этом на рынке присутствует большое количество дешевых подержанных машин.\n",
    "   - Большинство автомобилей имеют мощность от 100 до 120 лошадиных сил, а более мощные двигатели встречаются реже.\n",
    "   - Гистограмма километража получилась дискретной, что может свидетельствовать о некорректных данных или ограничениях в интерфейсе для ввода километража.\n",
    "\n",
    "\n"
   ]
  },
  {
   "cell_type": "markdown",
   "metadata": {},
   "source": [
    "## Обучение моделей <a name=\"4.\">"
   ]
  },
  {
   "cell_type": "code",
   "execution_count": 28,
   "metadata": {},
   "outputs": [],
   "source": [
    "RANDOM_STATE=42\n",
    "TEST_SIZE = 0.25\n",
    "X = autos.drop( 'Price', axis=1)\n",
    "y = autos['Price']"
   ]
  },
  {
   "attachments": {
    "image.png": {
     "image/png": "[encoded data removed]"
    }
   },
   "cell_type": "markdown",
   "metadata": {},
   "source": [
    "<div class=\"alert alert-warning\">\n",
    "<b>Комментарий 👉</b>\n",
    "\n",
    "\n",
    "\n",
    "Обычно я set'ы, настройки и константы также размещаю в ячейке с импортами, в её конце. Пример скрина моего текущего рабочего проекта:\n",
    "\n",
    "</div>\n",
    "\n",
    "![image.png](attachment:image.png)"
   ]
  },
  {
   "cell_type": "code",
   "execution_count": 29,
   "metadata": {},
   "outputs": [],
   "source": [
    "X_train, X_test, y_train, y_test = train_test_split(X, y, test_size=TEST_SIZE, random_state=RANDOM_STATE)\n"
   ]
  },
  {
   "cell_type": "code",
   "execution_count": 30,
   "metadata": {},
   "outputs": [],
   "source": [
    "cat_col_names = [\n",
    "    'VehicleType', \n",
    "    'Gearbox',\n",
    "    'Model',\n",
    "    'FuelType',\n",
    "    'Repaired'\n",
    "]\n",
    "\n",
    "\n",
    "num_col_names = ['RegistrationYear',\n",
    "               'Power',\n",
    "               'Kilometer'\n",
    "              ] \n"
   ]
  },
  {
   "cell_type": "markdown",
   "metadata": {},
   "source": [
    "Предположил что нам ORD не нужен потому что нету градации параметров, все на одном уровне, все делаем через num & ohe"
   ]
  },
  {
   "cell_type": "code",
   "execution_count": 31,
   "metadata": {
    "scrolled": false
   },
   "outputs": [
    {
     "name": "stdout",
     "output_type": "stream",
     "text": [
      "Training Linear Regression...\n",
      "Linear Regression RMSE: 2719.3749525774515\n",
      "Linear Regression Execution Time: 11.701166868209839 seconds\n",
      "Training CatBoost Regressor...\n",
      "CatBoost Regressor RMSE: 2072.9101375703117\n",
      "CatBoost Regressor Execution Time: 3.308103561401367 seconds\n",
      "Training LGBM Regressor...\n",
      "LGBM Regressor RMSE: 1932.916217252713\n",
      "LGBM Regressor Execution Time: 4.9371278285980225 seconds\n"
     ]
    }
   ],
   "source": [
    "num_pipeline = Pipeline([\n",
    "    ('imputer', SimpleImputer(strategy='mean')),  \n",
    "    ('scaler', StandardScaler())  \n",
    "])\n",
    "\n",
    "\n",
    "cat_pipeline = Pipeline([\n",
    "    ('imputer', SimpleImputer(strategy='most_frequent')),  \n",
    "    ('encoder', OneHotEncoder(handle_unknown='ignore')) \n",
    "])\n",
    "\n",
    "preprocessor = ColumnTransformer([\n",
    "    ('num', num_pipeline, num_col_names),\n",
    "    ('cat', cat_pipeline, cat_col_names)\n",
    "])\n",
    "\n",
    "models = [\n",
    "    ('Linear Regression', LinearRegression()),\n",
    "    ('CatBoost Regressor', CatBoostRegressor(iterations=100, learning_rate=0.05, depth=5, verbose=0)),\n",
    "    ('LGBM Regressor', LGBMRegressor(n_estimators=100, learning_rate=0.05, max_depth=5, n_jobs=-1))\n",
    "]\n",
    "\n",
    "for name, model in models:\n",
    "    print(f\"Training {name}...\")\n",
    "    start_time = time.time() \n",
    "    \n",
    "    pipeline = Pipeline([\n",
    "        ('preprocessor', preprocessor),\n",
    "        ('model', model)\n",
    "    ])\n",
    "    \n",
    "    pipeline.fit(X_train, y_train)\n",
    "    \n",
    "    y_pred = pipeline.predict(X_test)\n",
    "    \n",
    "    rmse = np.sqrt(mean_squared_error(y_test, y_pred))\n",
    "    \n",
    "    end_time = time.time() \n",
    "    execution_time = end_time - start_time \n",
    "    \n",
    "    print(f\"{name} RMSE: {rmse}\")\n",
    "    print(f\"{name} Execution Time: {execution_time} seconds\")"
   ]
  },
  {
   "cell_type": "markdown",
   "metadata": {},
   "source": [
    "Две модели CatBoost и LGBM Regressor показывают приемлемые результаты прогнозирования, CatBoost Regressor и LGBM Regressor демонстрируют более низкую ошибку и более быстрое время обучения по сравнению с линейной регрессией.\n",
    "##### CatBoost Regressor и LGBM Regressor более предпочтительными вариантами для прогнозирования цен."
   ]
  },
  {
   "cell_type": "markdown",
   "metadata": {},
   "source": [
    "#### Самой быстрой моделью получилась LGBM Regressor"
   ]
  },
  {
   "cell_type": "markdown",
   "metadata": {},
   "source": [
    "## Анализ моделей  <a name=\"5.\">"
   ]
  },
  {
   "cell_type": "code",
   "execution_count": 32,
   "metadata": {},
   "outputs": [
    {
     "name": "stdout",
     "output_type": "stream",
     "text": [
      "LGBMRegressor R^2 score: 0.8279603352662634\n"
     ]
    }
   ],
   "source": [
    "cat_features = ['VehicleType', 'Gearbox', 'Model', 'FuelType',  'Repaired']\n",
    "num_features = ['RegistrationYear', 'Power', 'Kilometer']\n",
    "\n",
    "num_transformer = Pipeline(steps=[\n",
    "    ('imputer', SimpleImputer(strategy='median')),\n",
    "    ('scaler', StandardScaler())\n",
    "])\n",
    "\n",
    "cat_transformer = Pipeline(steps=[\n",
    "    ('imputer', SimpleImputer(strategy='most_frequent')),\n",
    "    ('onehot', OneHotEncoder(handle_unknown='ignore'))\n",
    "])\n",
    "\n",
    "preprocessor = ColumnTransformer(\n",
    "    transformers=[\n",
    "        ('num', num_transformer, num_features),\n",
    "        ('cat', cat_transformer, cat_features)\n",
    "    ])\n",
    "\n",
    "LGBMRegressor_model = LGBMRegressor(n_estimators=100, learning_rate=0.05, max_depth=5, n_jobs=-1)\n",
    "\n",
    "LGBMRegressor_pipe = Pipeline(steps=[\n",
    "    ('preprocessor', preprocessor),\n",
    "    ('model', LGBMRegressor_model)\n",
    "])\n",
    "\n",
    "\n",
    "LGBMRegressor_pipe.fit(X_train, y_train) \n",
    "score = LGBMRegressor_pipe.score(X_test, y_test) \n",
    "print(f\"LGBMRegressor R^2 score: {score}\")"
   ]
  },
  {
   "cell_type": "markdown",
   "metadata": {},
   "source": [
    "Коэффициент детерминации R2 для модели LGBMRegressor составляет  0.844. Этот показатель указывает на то, что примерно 84.4% объяснено или предсказано с использованием LGBMRegressor."
   ]
  },
  {
   "cell_type": "markdown",
   "metadata": {},
   "source": [
    "<div class=\"alert alert-success\">\n",
    "<b>КОММЕНТАРИЙ V2</b> \t\n",
    "\n",
    "+\n",
    "</div>"
   ]
  },
  {
   "cell_type": "code",
   "execution_count": null,
   "metadata": {},
   "outputs": [
    {
     "name": "stdout",
     "output_type": "stream",
     "text": [
      "Training Linear Regression...\n"
     ]
    }
   ],
   "source": [
    "\n",
    "X_train, X_intermediate, y_train, y_intermediate = train_test_split(X, y, test_size=0.2, random_state=RANDOM_STATE)\n",
    "X_valid, X_test, y_valid, y_test = train_test_split(X_intermediate, y_intermediate, test_size=0.5, random_state=RANDOM_STATE)\n",
    "\n",
    "cat_col_names = ['VehicleType', 'Gearbox', 'Model', 'FuelType',  'Repaired']\n",
    "num_col_names = ['RegistrationYear', 'Power', 'Kilometer']\n",
    "\n",
    "num_pipeline = Pipeline([\n",
    "    ('imputer', SimpleImputer(strategy='mean')),  \n",
    "    ('scaler', StandardScaler())  \n",
    "])\n",
    "\n",
    "cat_pipeline = Pipeline([\n",
    "    ('imputer', SimpleImputer(strategy='most_frequent')),  \n",
    "    ('encoder', OneHotEncoder(handle_unknown='ignore')) \n",
    "])\n",
    "\n",
    "preprocessor = ColumnTransformer([\n",
    "    ('num', num_pipeline, num_col_names),\n",
    "    ('cat', cat_pipeline, cat_col_names)\n",
    "])\n",
    "\n",
    "models = [\n",
    "    ('Linear Regression', LinearRegression()),\n",
    "    ('CatBoost Regressor', CatBoostRegressor(iterations=100, learning_rate=0.05, depth=5, verbose=0)),\n",
    "    ('LGBM Regressor', LGBMRegressor(n_estimators=100, learning_rate=0.05, max_depth=5, n_jobs=-1))\n",
    "]\n",
    "\n",
    "best_model = None\n",
    "best_rmse = float('inf')\n",
    "best_execution_time = float('inf')\n",
    "\n",
    "for name, model in models:\n",
    "    print(f\"Training {name}...\")\n",
    "    start_time = time.time() \n",
    "    \n",
    "    pipeline = Pipeline([\n",
    "        ('preprocessor', preprocessor),\n",
    "        ('model', model)\n",
    "    ])\n",
    "    \n",
    "    pipeline.fit(X_train, y_train)  \n",
    "    \n",
    "    start_predict_time = time.time()\n",
    "    y_pred_valid = pipeline.predict(X_valid)\n",
    "    end_predict_time = time.time()\n",
    "    \n",
    "    rmse_valid = np.sqrt(mean_squared_error(y_valid, y_pred_valid))\n",
    "    \n",
    "    execution_time = end_predict_time - start_time \n",
    "    \n",
    "    print(f\"{name} RMSE на валидации: {rmse_valid}\")\n",
    "    print(f\"{name} Время выполнения: {execution_time} секунд\")\n",
    "    \n",
    "    if rmse_valid < best_rmse or (rmse_valid == best_rmse and execution_time < best_execution_time):\n",
    "        best_model = pipeline\n",
    "        best_rmse = rmse_valid\n",
    "        best_execution_time = execution_time\n",
    "\n",
    "print(f\"Best Model RMSE на валидации: {best_rmse}\")\n",
    "print(f\"Best Model Время выполнения: {best_execution_time} секунд\")\n",
    "\n",
    "y_pred_test = best_model.predict(X_test)\n",
    "test_rmse = np.sqrt(mean_squared_error(y_test, y_pred_test))\n",
    "print(f\"Best Model RMSE на тестовой выборке: {test_rmse}\")"
   ]
  },
  {
   "cell_type": "code",
   "execution_count": null,
   "metadata": {
    "scrolled": false
   },
   "outputs": [],
   "source": [
    "feature_importances = LGBMRegressor_pipe.named_steps['model'].feature_importances_\n",
    "\n",
    "encoded_cat_features = LGBMRegressor_pipe.named_steps['preprocessor'].transformers_[1][1]['onehot'].get_feature_names(cat_features)\n",
    "all_features = list(num_features) + list(encoded_cat_features)\n",
    "\n",
    "feature_importance_dict = {feature: importance for feature, importance in zip(all_features, feature_importances)}\n",
    "\n",
    "top_features = sorted(feature_importance_dict.items(), key=lambda x: x[1], reverse=True)[:10]\n",
    "top_feature_names = [feature[0] for feature in top_features]\n",
    "top_feature_importances = [feature[1] for feature in top_features]\n",
    "\n",
    "plt.figure(figsize=(10, 6))\n",
    "plt.barh(top_feature_names, top_feature_importances)\n",
    "plt.xlabel('Важность фичей')\n",
    "plt.ylabel('Фичи')\n",
    "plt.title('Toп 10 LGBMRegressor Признаков важности')\n",
    "plt.show()"
   ]
  },
  {
   "cell_type": "markdown",
   "metadata": {},
   "source": [
    "более важные:\n",
    "- Repaired_no:\n",
    "- Kilometer:\n",
    "- Power:\n",
    "- Registration_year:\n",
    "\n",
    "По этим показателем модель чаще всего оценивает стоимость автомобился"
   ]
  },
  {
   "cell_type": "markdown",
   "metadata": {},
   "source": [
    "### Вывод:  <a name=\"6.\">\n",
    "\n",
    "1. **Пропуски и типы данных:** \n",
    "   - Обнаружены пропущенные значения в некоторых столбцах, однако типы данных в основном соответствуют ожиданиям.\n",
    "\n",
    "2. **Аномалии в данных:**\n",
    "   - В данных наблюдаются аномалии в столбцах с ценой, годом выпуска и мощностью двигателя, что требует дальнейшей обработки.\n",
    "   - Из данных удаляются аномальные значения и дубликаты, а также некорректные столбцы, такие как столбец с фотографиями.\n",
    "   - Также удаляются анкеты с ценой ниже 100 евро и раритетные машины старше 60 лет.\n",
    "   - Проводится обработка категориальных данных и приведение их к удобному для анализа формату.\n",
    "\n",
    "4. **Анализ категориальных данных:**\n",
    "   - На рынке преобладают автомобили с механической коробкой передач, большинство машин продаются без ремонта и на бензине.\n",
    "   - Большинство автомобилей на рынке - немецкого производства, также есть представители французских марок.\n",
    "\n",
    "5. **Анализ количественных данных:**\n",
    "   - Медианная цена автомобиля составляет около 3 тысяч долларов, при этом на рынке присутствует большое количество дешевых подержанных машин.\n",
    "   - Большинство автомобилей имеют мощность от 100 до 120 лошадиных сил, а более мощные двигатели встречаются реже.\n",
    "   - Гистограмма километража получилась дискретной, что может свидетельствовать о некорректных данных или ограничениях в интерфейсе для ввода километража.\n",
    "5. **Анализ бустинга и обучения машинного обучения:**\n",
    "   - Проведенный анализ данных выявил проблемы, такие как пропуски и аномалии. Для прогнозирования цен были использованы три модели: CatBoost, LGBM Regressor и линейная регрессия.\n",
    "\n",
    "   - CatBoost показал наилучшее время обучения, а LGBM Regressor - наилучшую точность по метрике RMSE. Линейная регрессия оказалась наименее эффективной. Коэффициент детерминации R2 для LGBMRegressor составил 0.844"
   ]
  },
  {
   "cell_type": "markdown",
   "metadata": {},
   "source": [
    "При финальном выборе заказчику следует обратить внимание на LGBM Regressor она дает минимальную ошибку, однако если делать акцент по времени работы стоит обратить внимание CatBoost"
   ]
  }
 ],
 "metadata": {
  "ExecuteTimeLog": [
   {
    "duration": 2756,
    "start_time": "2024-03-20T13:41:22.768Z"
   },
   {
    "duration": 2669,
    "start_time": "2024-03-20T14:08:35.376Z"
   },
   {
    "duration": 1783,
    "start_time": "2024-03-20T14:09:09.516Z"
   },
   {
    "duration": 3208,
    "start_time": "2024-03-20T14:09:34.011Z"
   },
   {
    "duration": 213,
    "start_time": "2024-03-20T14:09:46.062Z"
   },
   {
    "duration": 2620,
    "start_time": "2024-03-20T14:14:25.755Z"
   },
   {
    "duration": 1689,
    "start_time": "2024-03-20T14:14:28.377Z"
   },
   {
    "duration": 1199,
    "start_time": "2024-03-20T14:14:30.068Z"
   },
   {
    "duration": 31,
    "start_time": "2024-03-20T14:14:31.269Z"
   },
   {
    "duration": 178,
    "start_time": "2024-03-20T14:14:31.301Z"
   },
   {
    "duration": 161,
    "start_time": "2024-03-20T14:14:31.480Z"
   },
   {
    "duration": 107,
    "start_time": "2024-03-20T14:14:31.643Z"
   },
   {
    "duration": 179,
    "start_time": "2024-03-20T14:14:31.752Z"
   },
   {
    "duration": 25,
    "start_time": "2024-03-20T14:14:31.932Z"
   },
   {
    "duration": 65,
    "start_time": "2024-03-20T14:14:31.960Z"
   },
   {
    "duration": 121,
    "start_time": "2024-03-20T14:14:32.027Z"
   },
   {
    "duration": 21,
    "start_time": "2024-03-20T14:14:32.149Z"
   },
   {
    "duration": 67,
    "start_time": "2024-03-20T14:14:32.172Z"
   },
   {
    "duration": 173,
    "start_time": "2024-03-20T14:14:32.240Z"
   },
   {
    "duration": 27,
    "start_time": "2024-03-20T14:14:32.415Z"
   },
   {
    "duration": 65,
    "start_time": "2024-03-20T14:14:32.443Z"
   },
   {
    "duration": 5533,
    "start_time": "2024-03-20T14:14:32.510Z"
   },
   {
    "duration": 28,
    "start_time": "2024-03-20T14:14:38.044Z"
   },
   {
    "duration": 195,
    "start_time": "2024-03-20T14:14:38.074Z"
   },
   {
    "duration": 4909,
    "start_time": "2024-03-20T14:14:38.270Z"
   },
   {
    "duration": 905,
    "start_time": "2024-03-20T14:14:43.181Z"
   },
   {
    "duration": 56,
    "start_time": "2024-03-20T14:14:44.088Z"
   },
   {
    "duration": 18,
    "start_time": "2024-03-20T14:14:44.146Z"
   },
   {
    "duration": 65,
    "start_time": "2024-03-20T14:14:44.166Z"
   },
   {
    "duration": 4,
    "start_time": "2024-03-20T14:14:44.232Z"
   },
   {
    "duration": 144,
    "start_time": "2024-03-20T14:14:44.237Z"
   },
   {
    "duration": 90,
    "start_time": "2024-03-20T14:24:42.697Z"
   },
   {
    "duration": 0,
    "start_time": "2024-03-20T14:24:42.790Z"
   },
   {
    "duration": 0,
    "start_time": "2024-03-20T14:24:42.791Z"
   },
   {
    "duration": 0,
    "start_time": "2024-03-20T14:24:42.792Z"
   },
   {
    "duration": 0,
    "start_time": "2024-03-20T14:24:42.793Z"
   },
   {
    "duration": 0,
    "start_time": "2024-03-20T14:24:42.794Z"
   },
   {
    "duration": 0,
    "start_time": "2024-03-20T14:24:42.795Z"
   },
   {
    "duration": 0,
    "start_time": "2024-03-20T14:24:42.796Z"
   },
   {
    "duration": 0,
    "start_time": "2024-03-20T14:24:42.797Z"
   },
   {
    "duration": 0,
    "start_time": "2024-03-20T14:24:42.799Z"
   },
   {
    "duration": 0,
    "start_time": "2024-03-20T14:24:42.800Z"
   },
   {
    "duration": 0,
    "start_time": "2024-03-20T14:24:42.801Z"
   },
   {
    "duration": 0,
    "start_time": "2024-03-20T14:24:42.802Z"
   },
   {
    "duration": 0,
    "start_time": "2024-03-20T14:24:42.803Z"
   },
   {
    "duration": 0,
    "start_time": "2024-03-20T14:24:42.804Z"
   },
   {
    "duration": 0,
    "start_time": "2024-03-20T14:24:42.805Z"
   },
   {
    "duration": 0,
    "start_time": "2024-03-20T14:24:42.806Z"
   },
   {
    "duration": 0,
    "start_time": "2024-03-20T14:24:42.807Z"
   },
   {
    "duration": 0,
    "start_time": "2024-03-20T14:24:42.808Z"
   },
   {
    "duration": 0,
    "start_time": "2024-03-20T14:24:42.809Z"
   },
   {
    "duration": 0,
    "start_time": "2024-03-20T14:24:42.810Z"
   },
   {
    "duration": 0,
    "start_time": "2024-03-20T14:24:42.811Z"
   },
   {
    "duration": 0,
    "start_time": "2024-03-20T14:24:42.812Z"
   },
   {
    "duration": 0,
    "start_time": "2024-03-20T14:24:42.813Z"
   },
   {
    "duration": 0,
    "start_time": "2024-03-20T14:24:42.814Z"
   },
   {
    "duration": 0,
    "start_time": "2024-03-20T14:24:42.815Z"
   },
   {
    "duration": 1715,
    "start_time": "2024-03-20T14:24:54.076Z"
   },
   {
    "duration": 928,
    "start_time": "2024-03-20T14:24:55.793Z"
   },
   {
    "duration": 26,
    "start_time": "2024-03-20T14:24:56.722Z"
   },
   {
    "duration": 183,
    "start_time": "2024-03-20T14:24:56.749Z"
   },
   {
    "duration": 163,
    "start_time": "2024-03-20T14:24:56.935Z"
   },
   {
    "duration": 104,
    "start_time": "2024-03-20T14:24:57.099Z"
   },
   {
    "duration": 190,
    "start_time": "2024-03-20T14:24:57.205Z"
   },
   {
    "duration": 35,
    "start_time": "2024-03-20T14:24:57.397Z"
   },
   {
    "duration": 51,
    "start_time": "2024-03-20T14:24:57.434Z"
   },
   {
    "duration": 111,
    "start_time": "2024-03-20T14:24:57.486Z"
   },
   {
    "duration": 20,
    "start_time": "2024-03-20T14:24:57.599Z"
   },
   {
    "duration": 58,
    "start_time": "2024-03-20T14:24:57.620Z"
   },
   {
    "duration": 182,
    "start_time": "2024-03-20T14:24:57.680Z"
   },
   {
    "duration": 20,
    "start_time": "2024-03-20T14:24:57.864Z"
   },
   {
    "duration": 65,
    "start_time": "2024-03-20T14:24:57.885Z"
   },
   {
    "duration": 5420,
    "start_time": "2024-03-20T14:24:57.951Z"
   },
   {
    "duration": 29,
    "start_time": "2024-03-20T14:25:03.373Z"
   },
   {
    "duration": 174,
    "start_time": "2024-03-20T14:25:03.403Z"
   },
   {
    "duration": 4865,
    "start_time": "2024-03-20T14:25:03.579Z"
   },
   {
    "duration": 872,
    "start_time": "2024-03-20T14:25:08.446Z"
   },
   {
    "duration": 46,
    "start_time": "2024-03-20T14:25:09.319Z"
   },
   {
    "duration": 16,
    "start_time": "2024-03-20T14:25:09.367Z"
   },
   {
    "duration": 70,
    "start_time": "2024-03-20T14:25:09.385Z"
   },
   {
    "duration": 2,
    "start_time": "2024-03-20T14:25:09.457Z"
   },
   {
    "duration": 8,
    "start_time": "2024-03-20T16:09:19.147Z"
   },
   {
    "duration": 845,
    "start_time": "2024-03-20T16:09:19.157Z"
   },
   {
    "duration": 26,
    "start_time": "2024-03-20T16:09:20.005Z"
   },
   {
    "duration": 164,
    "start_time": "2024-03-20T16:09:20.033Z"
   },
   {
    "duration": 151,
    "start_time": "2024-03-20T16:09:20.199Z"
   },
   {
    "duration": 91,
    "start_time": "2024-03-20T16:09:20.352Z"
   },
   {
    "duration": 171,
    "start_time": "2024-03-20T16:09:20.445Z"
   },
   {
    "duration": 24,
    "start_time": "2024-03-20T16:09:20.619Z"
   },
   {
    "duration": 45,
    "start_time": "2024-03-20T16:09:20.645Z"
   },
   {
    "duration": 35,
    "start_time": "2024-03-20T16:09:20.692Z"
   },
   {
    "duration": 17,
    "start_time": "2024-03-20T16:09:20.731Z"
   },
   {
    "duration": 80,
    "start_time": "2024-03-20T16:09:20.750Z"
   },
   {
    "duration": 170,
    "start_time": "2024-03-20T16:09:20.832Z"
   },
   {
    "duration": 25,
    "start_time": "2024-03-20T16:09:21.004Z"
   },
   {
    "duration": 44,
    "start_time": "2024-03-20T16:09:21.031Z"
   },
   {
    "duration": 5453,
    "start_time": "2024-03-20T16:09:21.077Z"
   },
   {
    "duration": 26,
    "start_time": "2024-03-20T16:09:26.533Z"
   },
   {
    "duration": 206,
    "start_time": "2024-03-20T16:09:26.560Z"
   },
   {
    "duration": 5055,
    "start_time": "2024-03-20T16:09:26.768Z"
   },
   {
    "duration": 849,
    "start_time": "2024-03-20T16:09:31.825Z"
   },
   {
    "duration": 61,
    "start_time": "2024-03-20T16:09:32.676Z"
   },
   {
    "duration": 15,
    "start_time": "2024-03-20T16:09:32.738Z"
   },
   {
    "duration": 60,
    "start_time": "2024-03-20T16:09:32.755Z"
   },
   {
    "duration": 3,
    "start_time": "2024-03-20T16:09:32.817Z"
   },
   {
    "duration": 151,
    "start_time": "2024-03-20T16:09:32.821Z"
   },
   {
    "duration": 0,
    "start_time": "2024-03-20T16:09:32.974Z"
   },
   {
    "duration": 0,
    "start_time": "2024-03-20T16:09:32.975Z"
   },
   {
    "duration": 0,
    "start_time": "2024-03-20T16:09:32.976Z"
   },
   {
    "duration": 0,
    "start_time": "2024-03-20T16:09:32.977Z"
   },
   {
    "duration": 0,
    "start_time": "2024-03-20T16:09:32.978Z"
   },
   {
    "duration": 63,
    "start_time": "2024-03-20T16:10:08.723Z"
   },
   {
    "duration": 13,
    "start_time": "2024-03-20T16:10:11.178Z"
   },
   {
    "duration": 6,
    "start_time": "2024-03-20T16:10:27.462Z"
   },
   {
    "duration": 80,
    "start_time": "2024-03-20T16:12:14.742Z"
   },
   {
    "duration": 18,
    "start_time": "2024-03-20T16:12:21.890Z"
   },
   {
    "duration": 1663,
    "start_time": "2024-03-20T16:15:29.643Z"
   },
   {
    "duration": 951,
    "start_time": "2024-03-20T16:15:31.308Z"
   },
   {
    "duration": 26,
    "start_time": "2024-03-20T16:15:32.261Z"
   },
   {
    "duration": 176,
    "start_time": "2024-03-20T16:15:32.290Z"
   },
   {
    "duration": 180,
    "start_time": "2024-03-20T16:15:32.468Z"
   },
   {
    "duration": 114,
    "start_time": "2024-03-20T16:15:32.650Z"
   },
   {
    "duration": 205,
    "start_time": "2024-03-20T16:15:32.765Z"
   },
   {
    "duration": 27,
    "start_time": "2024-03-20T16:15:32.971Z"
   },
   {
    "duration": 61,
    "start_time": "2024-03-20T16:15:33.000Z"
   },
   {
    "duration": 98,
    "start_time": "2024-03-20T16:15:33.064Z"
   },
   {
    "duration": 15,
    "start_time": "2024-03-20T16:15:33.163Z"
   },
   {
    "duration": 75,
    "start_time": "2024-03-20T16:15:33.179Z"
   },
   {
    "duration": 164,
    "start_time": "2024-03-20T16:15:33.256Z"
   },
   {
    "duration": 19,
    "start_time": "2024-03-20T16:15:33.422Z"
   },
   {
    "duration": 64,
    "start_time": "2024-03-20T16:15:33.443Z"
   },
   {
    "duration": 5436,
    "start_time": "2024-03-20T16:15:33.515Z"
   },
   {
    "duration": 29,
    "start_time": "2024-03-20T16:15:38.952Z"
   },
   {
    "duration": 179,
    "start_time": "2024-03-20T16:15:38.983Z"
   },
   {
    "duration": 4858,
    "start_time": "2024-03-20T16:15:39.164Z"
   },
   {
    "duration": 880,
    "start_time": "2024-03-20T16:15:44.024Z"
   },
   {
    "duration": 53,
    "start_time": "2024-03-20T16:15:44.906Z"
   },
   {
    "duration": 12,
    "start_time": "2024-03-20T16:15:44.960Z"
   },
   {
    "duration": 71,
    "start_time": "2024-03-20T16:15:44.974Z"
   },
   {
    "duration": 4,
    "start_time": "2024-03-20T16:15:45.046Z"
   },
   {
    "duration": 143,
    "start_time": "2024-03-20T16:15:45.051Z"
   },
   {
    "duration": 22,
    "start_time": "2024-03-20T16:15:45.196Z"
   },
   {
    "duration": 173,
    "start_time": "2024-03-20T16:15:45.220Z"
   },
   {
    "duration": 5,
    "start_time": "2024-03-20T16:15:45.397Z"
   },
   {
    "duration": 132,
    "start_time": "2024-03-20T16:15:45.403Z"
   },
   {
    "duration": 0,
    "start_time": "2024-03-20T16:15:45.537Z"
   },
   {
    "duration": 0,
    "start_time": "2024-03-20T16:15:45.538Z"
   },
   {
    "duration": 1635,
    "start_time": "2024-03-20T16:18:07.531Z"
   },
   {
    "duration": 888,
    "start_time": "2024-03-20T16:18:09.168Z"
   },
   {
    "duration": 26,
    "start_time": "2024-03-20T16:18:10.058Z"
   },
   {
    "duration": 159,
    "start_time": "2024-03-20T16:18:10.086Z"
   },
   {
    "duration": 171,
    "start_time": "2024-03-20T16:18:10.247Z"
   },
   {
    "duration": 101,
    "start_time": "2024-03-20T16:18:10.420Z"
   },
   {
    "duration": 182,
    "start_time": "2024-03-20T16:18:10.523Z"
   },
   {
    "duration": 23,
    "start_time": "2024-03-20T16:18:10.714Z"
   },
   {
    "duration": 49,
    "start_time": "2024-03-20T16:18:10.739Z"
   },
   {
    "duration": 102,
    "start_time": "2024-03-20T16:18:10.791Z"
   },
   {
    "duration": 29,
    "start_time": "2024-03-20T16:18:10.895Z"
   },
   {
    "duration": 58,
    "start_time": "2024-03-20T16:18:10.926Z"
   },
   {
    "duration": 182,
    "start_time": "2024-03-20T16:18:10.986Z"
   },
   {
    "duration": 21,
    "start_time": "2024-03-20T16:18:11.170Z"
   },
   {
    "duration": 70,
    "start_time": "2024-03-20T16:18:11.193Z"
   },
   {
    "duration": 5500,
    "start_time": "2024-03-20T16:18:11.264Z"
   },
   {
    "duration": 30,
    "start_time": "2024-03-20T16:18:16.766Z"
   },
   {
    "duration": 185,
    "start_time": "2024-03-20T16:18:16.798Z"
   },
   {
    "duration": 4831,
    "start_time": "2024-03-20T16:18:16.985Z"
   },
   {
    "duration": 863,
    "start_time": "2024-03-20T16:18:21.818Z"
   },
   {
    "duration": 56,
    "start_time": "2024-03-20T16:18:22.683Z"
   },
   {
    "duration": 19,
    "start_time": "2024-03-20T16:18:22.740Z"
   },
   {
    "duration": 67,
    "start_time": "2024-03-20T16:18:22.760Z"
   },
   {
    "duration": 3,
    "start_time": "2024-03-20T16:18:22.828Z"
   },
   {
    "duration": 113,
    "start_time": "2024-03-20T16:18:22.833Z"
   },
   {
    "duration": 18,
    "start_time": "2024-03-20T16:18:22.947Z"
   },
   {
    "duration": 169,
    "start_time": "2024-03-20T16:18:22.967Z"
   },
   {
    "duration": 5,
    "start_time": "2024-03-20T16:18:23.139Z"
   },
   {
    "duration": 2944,
    "start_time": "2024-03-20T16:18:23.146Z"
   },
   {
    "duration": 0,
    "start_time": "2024-03-20T16:18:26.092Z"
   },
   {
    "duration": 0,
    "start_time": "2024-03-20T16:18:26.094Z"
   },
   {
    "duration": 360,
    "start_time": "2024-03-20T16:19:27.375Z"
   },
   {
    "duration": 5334,
    "start_time": "2024-03-20T16:19:31.084Z"
   },
   {
    "duration": 40034,
    "start_time": "2024-03-20T16:35:46.492Z"
   },
   {
    "duration": 40967,
    "start_time": "2024-03-20T16:41:36.763Z"
   },
   {
    "duration": 1678,
    "start_time": "2024-03-20T17:17:34.593Z"
   },
   {
    "duration": 902,
    "start_time": "2024-03-20T17:17:36.274Z"
   },
   {
    "duration": 28,
    "start_time": "2024-03-20T17:17:37.178Z"
   },
   {
    "duration": 170,
    "start_time": "2024-03-20T17:17:37.215Z"
   },
   {
    "duration": 169,
    "start_time": "2024-03-20T17:17:37.388Z"
   },
   {
    "duration": 106,
    "start_time": "2024-03-20T17:17:37.559Z"
   },
   {
    "duration": 187,
    "start_time": "2024-03-20T17:17:37.667Z"
   },
   {
    "duration": 26,
    "start_time": "2024-03-20T17:17:37.856Z"
   },
   {
    "duration": 66,
    "start_time": "2024-03-20T17:17:37.884Z"
   },
   {
    "duration": 94,
    "start_time": "2024-03-20T17:17:37.952Z"
   },
   {
    "duration": 15,
    "start_time": "2024-03-20T17:17:38.048Z"
   },
   {
    "duration": 79,
    "start_time": "2024-03-20T17:17:38.064Z"
   },
   {
    "duration": 170,
    "start_time": "2024-03-20T17:17:38.145Z"
   },
   {
    "duration": 20,
    "start_time": "2024-03-20T17:17:38.317Z"
   },
   {
    "duration": 54,
    "start_time": "2024-03-20T17:17:38.338Z"
   },
   {
    "duration": 5386,
    "start_time": "2024-03-20T17:17:38.393Z"
   },
   {
    "duration": 36,
    "start_time": "2024-03-20T17:17:43.781Z"
   },
   {
    "duration": 170,
    "start_time": "2024-03-20T17:17:43.819Z"
   },
   {
    "duration": 4914,
    "start_time": "2024-03-20T17:17:43.991Z"
   },
   {
    "duration": 881,
    "start_time": "2024-03-20T17:17:48.907Z"
   },
   {
    "duration": 56,
    "start_time": "2024-03-20T17:17:49.790Z"
   },
   {
    "duration": 18,
    "start_time": "2024-03-20T17:17:49.848Z"
   },
   {
    "duration": 67,
    "start_time": "2024-03-20T17:17:49.868Z"
   },
   {
    "duration": 3,
    "start_time": "2024-03-20T17:17:49.937Z"
   },
   {
    "duration": 39880,
    "start_time": "2024-03-20T17:17:49.942Z"
   },
   {
    "duration": 41746,
    "start_time": "2024-03-20T17:23:03.482Z"
   },
   {
    "duration": 53,
    "start_time": "2024-03-21T08:38:04.165Z"
   },
   {
    "duration": 1762,
    "start_time": "2024-03-21T08:38:18.623Z"
   },
   {
    "duration": 0,
    "start_time": "2024-03-21T08:38:20.389Z"
   },
   {
    "duration": 0,
    "start_time": "2024-03-21T08:38:20.390Z"
   },
   {
    "duration": 0,
    "start_time": "2024-03-21T08:38:20.391Z"
   },
   {
    "duration": 0,
    "start_time": "2024-03-21T08:38:20.392Z"
   },
   {
    "duration": 0,
    "start_time": "2024-03-21T08:38:20.393Z"
   },
   {
    "duration": 0,
    "start_time": "2024-03-21T08:38:20.394Z"
   },
   {
    "duration": 0,
    "start_time": "2024-03-21T08:38:20.395Z"
   },
   {
    "duration": 0,
    "start_time": "2024-03-21T08:38:20.396Z"
   },
   {
    "duration": 0,
    "start_time": "2024-03-21T08:38:20.397Z"
   },
   {
    "duration": 0,
    "start_time": "2024-03-21T08:38:20.398Z"
   },
   {
    "duration": 0,
    "start_time": "2024-03-21T08:38:20.399Z"
   },
   {
    "duration": 0,
    "start_time": "2024-03-21T08:38:20.400Z"
   },
   {
    "duration": 0,
    "start_time": "2024-03-21T08:38:20.401Z"
   },
   {
    "duration": 0,
    "start_time": "2024-03-21T08:38:20.402Z"
   },
   {
    "duration": 0,
    "start_time": "2024-03-21T08:38:20.403Z"
   },
   {
    "duration": 0,
    "start_time": "2024-03-21T08:38:20.404Z"
   },
   {
    "duration": 0,
    "start_time": "2024-03-21T08:38:20.405Z"
   },
   {
    "duration": 0,
    "start_time": "2024-03-21T08:38:20.407Z"
   },
   {
    "duration": 0,
    "start_time": "2024-03-21T08:38:20.408Z"
   },
   {
    "duration": 0,
    "start_time": "2024-03-21T08:38:20.409Z"
   },
   {
    "duration": 0,
    "start_time": "2024-03-21T08:38:20.410Z"
   },
   {
    "duration": 0,
    "start_time": "2024-03-21T08:38:20.411Z"
   },
   {
    "duration": 0,
    "start_time": "2024-03-21T08:38:20.412Z"
   },
   {
    "duration": 0,
    "start_time": "2024-03-21T08:38:20.413Z"
   },
   {
    "duration": 3595,
    "start_time": "2024-03-21T08:38:46.313Z"
   },
   {
    "duration": 105,
    "start_time": "2024-03-21T08:39:11.341Z"
   },
   {
    "duration": 232,
    "start_time": "2024-03-21T08:39:15.008Z"
   },
   {
    "duration": 1658,
    "start_time": "2024-03-21T08:39:28.175Z"
   },
   {
    "duration": 3035,
    "start_time": "2024-03-21T08:39:29.835Z"
   },
   {
    "duration": 27,
    "start_time": "2024-03-21T08:39:32.871Z"
   },
   {
    "duration": 162,
    "start_time": "2024-03-21T08:39:32.900Z"
   },
   {
    "duration": 154,
    "start_time": "2024-03-21T08:39:33.064Z"
   },
   {
    "duration": 144,
    "start_time": "2024-03-21T08:39:33.219Z"
   },
   {
    "duration": 221,
    "start_time": "2024-03-21T08:39:33.365Z"
   },
   {
    "duration": 29,
    "start_time": "2024-03-21T08:39:33.587Z"
   },
   {
    "duration": 64,
    "start_time": "2024-03-21T08:39:33.618Z"
   },
   {
    "duration": 92,
    "start_time": "2024-03-21T08:39:33.684Z"
   },
   {
    "duration": 14,
    "start_time": "2024-03-21T08:39:33.778Z"
   },
   {
    "duration": 58,
    "start_time": "2024-03-21T08:39:33.793Z"
   },
   {
    "duration": 182,
    "start_time": "2024-03-21T08:39:33.853Z"
   },
   {
    "duration": 20,
    "start_time": "2024-03-21T08:39:34.037Z"
   },
   {
    "duration": 68,
    "start_time": "2024-03-21T08:39:34.059Z"
   },
   {
    "duration": 5493,
    "start_time": "2024-03-21T08:39:34.129Z"
   },
   {
    "duration": 31,
    "start_time": "2024-03-21T08:39:39.623Z"
   },
   {
    "duration": 182,
    "start_time": "2024-03-21T08:39:39.656Z"
   },
   {
    "duration": 4904,
    "start_time": "2024-03-21T08:39:39.840Z"
   },
   {
    "duration": 893,
    "start_time": "2024-03-21T08:39:44.745Z"
   },
   {
    "duration": 59,
    "start_time": "2024-03-21T08:39:45.639Z"
   },
   {
    "duration": 12,
    "start_time": "2024-03-21T08:39:45.699Z"
   },
   {
    "duration": 71,
    "start_time": "2024-03-21T08:39:45.712Z"
   },
   {
    "duration": 3,
    "start_time": "2024-03-21T08:39:45.784Z"
   },
   {
    "duration": 50093,
    "start_time": "2024-03-21T08:39:45.789Z"
   },
   {
    "duration": 1676,
    "start_time": "2024-03-21T08:40:53.107Z"
   },
   {
    "duration": 900,
    "start_time": "2024-03-21T08:40:54.785Z"
   },
   {
    "duration": 26,
    "start_time": "2024-03-21T08:40:55.687Z"
   },
   {
    "duration": 170,
    "start_time": "2024-03-21T08:40:55.715Z"
   },
   {
    "duration": 165,
    "start_time": "2024-03-21T08:40:55.887Z"
   },
   {
    "duration": 104,
    "start_time": "2024-03-21T08:40:56.053Z"
   },
   {
    "duration": 188,
    "start_time": "2024-03-21T08:40:56.159Z"
   },
   {
    "duration": 34,
    "start_time": "2024-03-21T08:40:56.348Z"
   },
   {
    "duration": 48,
    "start_time": "2024-03-21T08:40:56.384Z"
   },
   {
    "duration": 98,
    "start_time": "2024-03-21T08:40:56.434Z"
   },
   {
    "duration": 14,
    "start_time": "2024-03-21T08:40:56.534Z"
   },
   {
    "duration": 69,
    "start_time": "2024-03-21T08:40:56.549Z"
   },
   {
    "duration": 177,
    "start_time": "2024-03-21T08:40:56.619Z"
   },
   {
    "duration": 19,
    "start_time": "2024-03-21T08:40:56.799Z"
   },
   {
    "duration": 63,
    "start_time": "2024-03-21T08:40:56.820Z"
   },
   {
    "duration": 5497,
    "start_time": "2024-03-21T08:40:56.885Z"
   },
   {
    "duration": 29,
    "start_time": "2024-03-21T08:41:02.383Z"
   },
   {
    "duration": 228,
    "start_time": "2024-03-21T08:41:02.414Z"
   },
   {
    "duration": 4992,
    "start_time": "2024-03-21T08:41:02.644Z"
   },
   {
    "duration": 931,
    "start_time": "2024-03-21T08:41:07.638Z"
   },
   {
    "duration": 51,
    "start_time": "2024-03-21T08:41:08.572Z"
   },
   {
    "duration": 17,
    "start_time": "2024-03-21T08:41:08.625Z"
   },
   {
    "duration": 73,
    "start_time": "2024-03-21T08:41:08.644Z"
   },
   {
    "duration": 4,
    "start_time": "2024-03-21T08:41:08.722Z"
   },
   {
    "duration": 41045,
    "start_time": "2024-03-21T08:41:08.728Z"
   },
   {
    "duration": 40580,
    "start_time": "2024-03-21T08:44:40.111Z"
   },
   {
    "duration": 1661,
    "start_time": "2024-03-21T08:58:28.585Z"
   },
   {
    "duration": 920,
    "start_time": "2024-03-21T08:58:30.248Z"
   },
   {
    "duration": 26,
    "start_time": "2024-03-21T08:58:31.169Z"
   },
   {
    "duration": 192,
    "start_time": "2024-03-21T08:58:31.196Z"
   },
   {
    "duration": 151,
    "start_time": "2024-03-21T08:58:31.391Z"
   },
   {
    "duration": 202,
    "start_time": "2024-03-21T08:58:31.543Z"
   },
   {
    "duration": 206,
    "start_time": "2024-03-21T08:58:31.746Z"
   },
   {
    "duration": 33,
    "start_time": "2024-03-21T08:58:31.954Z"
   },
   {
    "duration": 71,
    "start_time": "2024-03-21T08:58:31.988Z"
   },
   {
    "duration": 95,
    "start_time": "2024-03-21T08:58:32.061Z"
   },
   {
    "duration": 19,
    "start_time": "2024-03-21T08:58:32.157Z"
   },
   {
    "duration": 57,
    "start_time": "2024-03-21T08:58:32.178Z"
   },
   {
    "duration": 173,
    "start_time": "2024-03-21T08:58:32.237Z"
   },
   {
    "duration": 20,
    "start_time": "2024-03-21T08:58:32.412Z"
   },
   {
    "duration": 69,
    "start_time": "2024-03-21T08:58:32.433Z"
   },
   {
    "duration": 5522,
    "start_time": "2024-03-21T08:58:32.503Z"
   },
   {
    "duration": 30,
    "start_time": "2024-03-21T08:58:38.027Z"
   },
   {
    "duration": 190,
    "start_time": "2024-03-21T08:58:38.059Z"
   },
   {
    "duration": 4885,
    "start_time": "2024-03-21T08:58:38.251Z"
   },
   {
    "duration": 956,
    "start_time": "2024-03-21T08:58:43.138Z"
   },
   {
    "duration": 50,
    "start_time": "2024-03-21T08:58:44.096Z"
   },
   {
    "duration": 32,
    "start_time": "2024-03-21T08:58:44.148Z"
   },
   {
    "duration": 60,
    "start_time": "2024-03-21T08:58:44.181Z"
   },
   {
    "duration": 3,
    "start_time": "2024-03-21T08:58:44.243Z"
   },
   {
    "duration": 42926,
    "start_time": "2024-03-21T08:58:44.247Z"
   },
   {
    "duration": 4590,
    "start_time": "2024-03-21T08:59:27.175Z"
   },
   {
    "duration": 1686,
    "start_time": "2024-03-21T10:51:09.475Z"
   },
   {
    "duration": 954,
    "start_time": "2024-03-21T10:51:11.162Z"
   },
   {
    "duration": 26,
    "start_time": "2024-03-21T10:51:12.118Z"
   },
   {
    "duration": 165,
    "start_time": "2024-03-21T10:51:12.147Z"
   },
   {
    "duration": 163,
    "start_time": "2024-03-21T10:51:12.314Z"
   },
   {
    "duration": 147,
    "start_time": "2024-03-21T10:51:12.479Z"
   },
   {
    "duration": 183,
    "start_time": "2024-03-21T10:51:12.628Z"
   },
   {
    "duration": 24,
    "start_time": "2024-03-21T10:51:12.813Z"
   },
   {
    "duration": 79,
    "start_time": "2024-03-21T10:51:12.839Z"
   },
   {
    "duration": 95,
    "start_time": "2024-03-21T10:51:12.922Z"
   },
   {
    "duration": 15,
    "start_time": "2024-03-21T10:51:13.019Z"
   },
   {
    "duration": 86,
    "start_time": "2024-03-21T10:51:13.036Z"
   },
   {
    "duration": 170,
    "start_time": "2024-03-21T10:51:13.124Z"
   },
   {
    "duration": 21,
    "start_time": "2024-03-21T10:51:13.295Z"
   },
   {
    "duration": 72,
    "start_time": "2024-03-21T10:51:13.317Z"
   },
   {
    "duration": 5442,
    "start_time": "2024-03-21T10:51:13.391Z"
   },
   {
    "duration": 31,
    "start_time": "2024-03-21T10:51:18.835Z"
   },
   {
    "duration": 175,
    "start_time": "2024-03-21T10:51:18.867Z"
   },
   {
    "duration": 4888,
    "start_time": "2024-03-21T10:51:19.044Z"
   },
   {
    "duration": 885,
    "start_time": "2024-03-21T10:51:23.934Z"
   },
   {
    "duration": 61,
    "start_time": "2024-03-21T10:51:24.820Z"
   },
   {
    "duration": 12,
    "start_time": "2024-03-21T10:51:24.883Z"
   },
   {
    "duration": 81,
    "start_time": "2024-03-21T10:51:24.897Z"
   },
   {
    "duration": 4,
    "start_time": "2024-03-21T10:51:24.980Z"
   },
   {
    "duration": 40997,
    "start_time": "2024-03-21T10:51:24.986Z"
   },
   {
    "duration": 4652,
    "start_time": "2024-03-21T10:52:05.985Z"
   },
   {
    "duration": 5064,
    "start_time": "2024-03-21T10:52:10.639Z"
   },
   {
    "duration": 166,
    "start_time": "2024-03-21T10:53:49.557Z"
   },
   {
    "duration": 1904,
    "start_time": "2024-03-21T21:04:09.944Z"
   },
   {
    "duration": 0,
    "start_time": "2024-03-21T21:04:11.852Z"
   },
   {
    "duration": 0,
    "start_time": "2024-03-21T21:04:11.853Z"
   },
   {
    "duration": 0,
    "start_time": "2024-03-21T21:04:11.854Z"
   },
   {
    "duration": 0,
    "start_time": "2024-03-21T21:04:11.855Z"
   },
   {
    "duration": 0,
    "start_time": "2024-03-21T21:04:11.856Z"
   },
   {
    "duration": 0,
    "start_time": "2024-03-21T21:04:11.857Z"
   },
   {
    "duration": 0,
    "start_time": "2024-03-21T21:04:11.858Z"
   },
   {
    "duration": 0,
    "start_time": "2024-03-21T21:04:11.859Z"
   },
   {
    "duration": 0,
    "start_time": "2024-03-21T21:04:11.873Z"
   },
   {
    "duration": 0,
    "start_time": "2024-03-21T21:04:11.873Z"
   },
   {
    "duration": 0,
    "start_time": "2024-03-21T21:04:11.877Z"
   },
   {
    "duration": 0,
    "start_time": "2024-03-21T21:04:11.878Z"
   },
   {
    "duration": 0,
    "start_time": "2024-03-21T21:04:11.879Z"
   },
   {
    "duration": 0,
    "start_time": "2024-03-21T21:04:11.880Z"
   },
   {
    "duration": 0,
    "start_time": "2024-03-21T21:04:11.881Z"
   },
   {
    "duration": 0,
    "start_time": "2024-03-21T21:04:11.882Z"
   },
   {
    "duration": 0,
    "start_time": "2024-03-21T21:04:11.883Z"
   },
   {
    "duration": 0,
    "start_time": "2024-03-21T21:04:11.884Z"
   },
   {
    "duration": 0,
    "start_time": "2024-03-21T21:04:11.885Z"
   },
   {
    "duration": 0,
    "start_time": "2024-03-21T21:04:11.886Z"
   },
   {
    "duration": 0,
    "start_time": "2024-03-21T21:04:11.887Z"
   },
   {
    "duration": 0,
    "start_time": "2024-03-21T21:04:11.888Z"
   },
   {
    "duration": 0,
    "start_time": "2024-03-21T21:04:11.889Z"
   },
   {
    "duration": 0,
    "start_time": "2024-03-21T21:04:11.893Z"
   },
   {
    "duration": 0,
    "start_time": "2024-03-21T21:04:11.895Z"
   },
   {
    "duration": 0,
    "start_time": "2024-03-21T21:04:11.896Z"
   },
   {
    "duration": 3720,
    "start_time": "2024-03-21T21:04:29.429Z"
   },
   {
    "duration": 2672,
    "start_time": "2024-03-21T21:04:38.787Z"
   },
   {
    "duration": 1708,
    "start_time": "2024-03-21T21:04:41.462Z"
   },
   {
    "duration": 3142,
    "start_time": "2024-03-21T21:04:43.172Z"
   },
   {
    "duration": 25,
    "start_time": "2024-03-21T21:04:46.316Z"
   },
   {
    "duration": 168,
    "start_time": "2024-03-21T21:04:46.343Z"
   },
   {
    "duration": 173,
    "start_time": "2024-03-21T21:04:46.513Z"
   },
   {
    "duration": 138,
    "start_time": "2024-03-21T21:04:46.688Z"
   },
   {
    "duration": 198,
    "start_time": "2024-03-21T21:04:46.828Z"
   },
   {
    "duration": 26,
    "start_time": "2024-03-21T21:04:47.027Z"
   },
   {
    "duration": 73,
    "start_time": "2024-03-21T21:04:47.055Z"
   },
   {
    "duration": 98,
    "start_time": "2024-03-21T21:04:47.131Z"
   },
   {
    "duration": 16,
    "start_time": "2024-03-21T21:04:47.230Z"
   },
   {
    "duration": 83,
    "start_time": "2024-03-21T21:04:47.247Z"
   },
   {
    "duration": 164,
    "start_time": "2024-03-21T21:04:47.333Z"
   },
   {
    "duration": 19,
    "start_time": "2024-03-21T21:04:47.499Z"
   },
   {
    "duration": 73,
    "start_time": "2024-03-21T21:04:47.520Z"
   },
   {
    "duration": 5590,
    "start_time": "2024-03-21T21:04:47.595Z"
   },
   {
    "duration": 31,
    "start_time": "2024-03-21T21:04:53.187Z"
   },
   {
    "duration": 189,
    "start_time": "2024-03-21T21:04:53.219Z"
   },
   {
    "duration": 5217,
    "start_time": "2024-03-21T21:04:53.410Z"
   },
   {
    "duration": 959,
    "start_time": "2024-03-21T21:04:58.629Z"
   },
   {
    "duration": 49,
    "start_time": "2024-03-21T21:04:59.589Z"
   },
   {
    "duration": 15,
    "start_time": "2024-03-21T21:04:59.640Z"
   },
   {
    "duration": 73,
    "start_time": "2024-03-21T21:04:59.656Z"
   },
   {
    "duration": 3,
    "start_time": "2024-03-21T21:04:59.731Z"
   },
   {
    "duration": 74853,
    "start_time": "2024-03-21T21:04:59.735Z"
   },
   {
    "duration": 4696,
    "start_time": "2024-03-21T21:06:14.590Z"
   },
   {
    "duration": 181,
    "start_time": "2024-03-21T21:06:19.288Z"
   },
   {
    "duration": 47853,
    "start_time": "2024-03-21T21:06:52.642Z"
   },
   {
    "duration": 140,
    "start_time": "2024-03-21T21:08:06.230Z"
   },
   {
    "duration": 2732,
    "start_time": "2024-03-21T21:16:11.534Z"
   },
   {
    "duration": 1834,
    "start_time": "2024-03-21T21:16:14.268Z"
   },
   {
    "duration": 934,
    "start_time": "2024-03-21T21:16:16.104Z"
   },
   {
    "duration": 48,
    "start_time": "2024-03-21T21:16:17.040Z"
   },
   {
    "duration": 171,
    "start_time": "2024-03-21T21:16:17.094Z"
   },
   {
    "duration": 173,
    "start_time": "2024-03-21T21:16:17.266Z"
   },
   {
    "duration": 99,
    "start_time": "2024-03-21T21:16:17.441Z"
   },
   {
    "duration": 181,
    "start_time": "2024-03-21T21:16:17.541Z"
   },
   {
    "duration": 23,
    "start_time": "2024-03-21T21:16:17.724Z"
   },
   {
    "duration": 139,
    "start_time": "2024-03-21T21:16:17.750Z"
   },
   {
    "duration": 19,
    "start_time": "2024-03-21T21:16:17.891Z"
   },
   {
    "duration": 14,
    "start_time": "2024-03-21T21:16:17.911Z"
   },
   {
    "duration": 87,
    "start_time": "2024-03-21T21:16:17.926Z"
   },
   {
    "duration": 180,
    "start_time": "2024-03-21T21:16:18.014Z"
   },
   {
    "duration": 20,
    "start_time": "2024-03-21T21:16:18.196Z"
   },
   {
    "duration": 68,
    "start_time": "2024-03-21T21:16:18.217Z"
   },
   {
    "duration": 5606,
    "start_time": "2024-03-21T21:16:18.287Z"
   },
   {
    "duration": 27,
    "start_time": "2024-03-21T21:16:23.895Z"
   },
   {
    "duration": 238,
    "start_time": "2024-03-21T21:16:23.924Z"
   },
   {
    "duration": 5258,
    "start_time": "2024-03-21T21:16:24.163Z"
   },
   {
    "duration": 866,
    "start_time": "2024-03-21T21:16:29.422Z"
   },
   {
    "duration": 46,
    "start_time": "2024-03-21T21:16:30.290Z"
   },
   {
    "duration": 18,
    "start_time": "2024-03-21T21:16:30.337Z"
   },
   {
    "duration": 166,
    "start_time": "2024-03-21T21:16:30.356Z"
   },
   {
    "duration": 33,
    "start_time": "2024-03-21T21:16:30.524Z"
   },
   {
    "duration": 49446,
    "start_time": "2024-03-21T21:16:30.559Z"
   },
   {
    "duration": 24396,
    "start_time": "2024-03-21T21:17:20.006Z"
   },
   {
    "duration": 263,
    "start_time": "2024-03-21T21:17:44.405Z"
   },
   {
    "duration": 2720,
    "start_time": "2024-03-21T21:21:18.420Z"
   },
   {
    "duration": 1665,
    "start_time": "2024-03-21T21:21:21.142Z"
   },
   {
    "duration": 960,
    "start_time": "2024-03-21T21:21:22.809Z"
   },
   {
    "duration": 31,
    "start_time": "2024-03-21T21:21:23.770Z"
   },
   {
    "duration": 181,
    "start_time": "2024-03-21T21:21:23.803Z"
   },
   {
    "duration": 177,
    "start_time": "2024-03-21T21:21:23.987Z"
   },
   {
    "duration": 114,
    "start_time": "2024-03-21T21:21:24.166Z"
   },
   {
    "duration": 176,
    "start_time": "2024-03-21T21:21:24.284Z"
   },
   {
    "duration": 39,
    "start_time": "2024-03-21T21:21:24.462Z"
   },
   {
    "duration": 48,
    "start_time": "2024-03-21T21:21:24.503Z"
   },
   {
    "duration": 102,
    "start_time": "2024-03-21T21:21:24.553Z"
   },
   {
    "duration": 31,
    "start_time": "2024-03-21T21:21:24.657Z"
   },
   {
    "duration": 59,
    "start_time": "2024-03-21T21:21:24.690Z"
   },
   {
    "duration": 163,
    "start_time": "2024-03-21T21:21:24.752Z"
   },
   {
    "duration": 19,
    "start_time": "2024-03-21T21:21:24.918Z"
   },
   {
    "duration": 71,
    "start_time": "2024-03-21T21:21:24.939Z"
   },
   {
    "duration": 5681,
    "start_time": "2024-03-21T21:21:25.012Z"
   },
   {
    "duration": 29,
    "start_time": "2024-03-21T21:21:30.694Z"
   },
   {
    "duration": 260,
    "start_time": "2024-03-21T21:21:30.724Z"
   },
   {
    "duration": 5358,
    "start_time": "2024-03-21T21:21:30.987Z"
   },
   {
    "duration": 958,
    "start_time": "2024-03-21T21:21:36.346Z"
   },
   {
    "duration": 46,
    "start_time": "2024-03-21T21:21:37.306Z"
   },
   {
    "duration": 36,
    "start_time": "2024-03-21T21:21:37.353Z"
   },
   {
    "duration": 54,
    "start_time": "2024-03-21T21:21:37.390Z"
   },
   {
    "duration": 3,
    "start_time": "2024-03-21T21:21:37.446Z"
   },
   {
    "duration": 52949,
    "start_time": "2024-03-21T21:21:37.450Z"
   },
   {
    "duration": 26490,
    "start_time": "2024-03-21T21:22:30.401Z"
   },
   {
    "duration": 275,
    "start_time": "2024-03-21T21:22:56.895Z"
   },
   {
    "duration": 18,
    "start_time": "2024-03-21T21:23:48.099Z"
   },
   {
    "duration": 5706,
    "start_time": "2024-03-21T21:24:45.810Z"
   },
   {
    "duration": 593,
    "start_time": "2024-03-21T21:26:20.515Z"
   },
   {
    "duration": 5460,
    "start_time": "2024-03-21T21:34:12.588Z"
   },
   {
    "duration": 719,
    "start_time": "2024-03-21T21:36:06.859Z"
   },
   {
    "duration": 1908,
    "start_time": "2024-03-21T21:38:07.729Z"
   },
   {
    "duration": 365,
    "start_time": "2024-03-21T21:38:20.835Z"
   },
   {
    "duration": 215,
    "start_time": "2024-03-21T21:38:39.860Z"
   },
   {
    "duration": 19,
    "start_time": "2024-03-21T21:55:03.788Z"
   },
   {
    "duration": 2953,
    "start_time": "2024-03-21T22:14:46.708Z"
   },
   {
    "duration": 1836,
    "start_time": "2024-03-21T22:14:49.663Z"
   },
   {
    "duration": 1058,
    "start_time": "2024-03-21T22:14:51.505Z"
   },
   {
    "duration": 50,
    "start_time": "2024-03-21T22:14:52.565Z"
   },
   {
    "duration": 187,
    "start_time": "2024-03-21T22:14:52.617Z"
   },
   {
    "duration": 192,
    "start_time": "2024-03-21T22:14:52.806Z"
   },
   {
    "duration": 107,
    "start_time": "2024-03-21T22:14:53.000Z"
   },
   {
    "duration": 219,
    "start_time": "2024-03-21T22:14:53.108Z"
   },
   {
    "duration": 29,
    "start_time": "2024-03-21T22:14:53.329Z"
   },
   {
    "duration": 159,
    "start_time": "2024-03-21T22:14:53.361Z"
   },
   {
    "duration": 19,
    "start_time": "2024-03-21T22:14:53.522Z"
   },
   {
    "duration": 68,
    "start_time": "2024-03-21T22:14:53.543Z"
   },
   {
    "duration": 84,
    "start_time": "2024-03-21T22:14:53.612Z"
   },
   {
    "duration": 158,
    "start_time": "2024-03-21T22:14:53.699Z"
   },
   {
    "duration": 106,
    "start_time": "2024-03-21T22:14:53.858Z"
   },
   {
    "duration": 799,
    "start_time": "2024-03-21T22:14:53.966Z"
   },
   {
    "duration": 239,
    "start_time": "2024-03-21T22:14:54.767Z"
   },
   {
    "duration": 231,
    "start_time": "2024-03-21T22:14:55.008Z"
   },
   {
    "duration": 5962,
    "start_time": "2024-03-21T22:14:55.241Z"
   },
   {
    "duration": 23,
    "start_time": "2024-03-21T22:15:01.204Z"
   },
   {
    "duration": 90,
    "start_time": "2024-03-21T22:15:01.229Z"
   },
   {
    "duration": 214,
    "start_time": "2024-03-21T22:15:01.320Z"
   },
   {
    "duration": 5405,
    "start_time": "2024-03-21T22:15:01.535Z"
   },
   {
    "duration": 959,
    "start_time": "2024-03-21T22:15:06.942Z"
   },
   {
    "duration": 19,
    "start_time": "2024-03-21T22:15:07.902Z"
   },
   {
    "duration": 78,
    "start_time": "2024-03-21T22:15:07.922Z"
   },
   {
    "duration": 3,
    "start_time": "2024-03-21T22:15:08.002Z"
   },
   {
    "duration": 147183,
    "start_time": "2024-03-21T22:15:08.008Z"
   },
   {
    "duration": 120504,
    "start_time": "2024-03-21T22:17:35.201Z"
   },
   {
    "duration": 288,
    "start_time": "2024-03-21T22:19:35.707Z"
   },
   {
    "duration": 190,
    "start_time": "2024-03-22T07:23:30.810Z"
   },
   {
    "duration": 261,
    "start_time": "2024-03-22T07:23:55.688Z"
   },
   {
    "duration": 247,
    "start_time": "2024-03-22T07:24:06.241Z"
   },
   {
    "duration": 193,
    "start_time": "2024-03-22T07:24:27.447Z"
   },
   {
    "duration": 2551,
    "start_time": "2024-03-22T07:44:04.483Z"
   },
   {
    "duration": 1665,
    "start_time": "2024-03-22T07:44:07.037Z"
   },
   {
    "duration": 898,
    "start_time": "2024-03-22T07:44:08.704Z"
   },
   {
    "duration": 24,
    "start_time": "2024-03-22T07:44:09.604Z"
   },
   {
    "duration": 172,
    "start_time": "2024-03-22T07:44:09.630Z"
   },
   {
    "duration": 153,
    "start_time": "2024-03-22T07:44:09.803Z"
   },
   {
    "duration": 103,
    "start_time": "2024-03-22T07:44:09.958Z"
   },
   {
    "duration": 184,
    "start_time": "2024-03-22T07:44:10.062Z"
   },
   {
    "duration": 34,
    "start_time": "2024-03-22T07:44:10.247Z"
   },
   {
    "duration": 140,
    "start_time": "2024-03-22T07:44:10.284Z"
   },
   {
    "duration": 19,
    "start_time": "2024-03-22T07:44:10.425Z"
   },
   {
    "duration": 31,
    "start_time": "2024-03-22T07:44:10.445Z"
   },
   {
    "duration": 60,
    "start_time": "2024-03-22T07:44:10.478Z"
   },
   {
    "duration": 157,
    "start_time": "2024-03-22T07:44:10.540Z"
   },
   {
    "duration": 101,
    "start_time": "2024-03-22T07:44:10.698Z"
   },
   {
    "duration": 676,
    "start_time": "2024-03-22T07:44:10.801Z"
   },
   {
    "duration": 197,
    "start_time": "2024-03-22T07:44:11.479Z"
   },
   {
    "duration": 213,
    "start_time": "2024-03-22T07:44:11.678Z"
   },
   {
    "duration": 5370,
    "start_time": "2024-03-22T07:44:11.893Z"
   },
   {
    "duration": 20,
    "start_time": "2024-03-22T07:44:17.272Z"
   },
   {
    "duration": 23,
    "start_time": "2024-03-22T07:44:17.293Z"
   },
   {
    "duration": 162,
    "start_time": "2024-03-22T07:44:17.318Z"
   },
   {
    "duration": 4612,
    "start_time": "2024-03-22T07:44:17.481Z"
   },
   {
    "duration": 843,
    "start_time": "2024-03-22T07:44:22.095Z"
   },
   {
    "duration": 18,
    "start_time": "2024-03-22T07:44:22.939Z"
   },
   {
    "duration": 60,
    "start_time": "2024-03-22T07:44:22.958Z"
   },
   {
    "duration": 3,
    "start_time": "2024-03-22T07:44:23.020Z"
   },
   {
    "duration": 35959,
    "start_time": "2024-03-22T07:44:23.025Z"
   },
   {
    "duration": 5900,
    "start_time": "2024-03-22T07:44:58.986Z"
   },
   {
    "duration": 208,
    "start_time": "2024-03-22T07:45:04.887Z"
   },
   {
    "duration": 103,
    "start_time": "2024-03-22T07:45:05.097Z"
   },
   {
    "duration": 20555,
    "start_time": "2024-03-22T07:46:01.562Z"
   },
   {
    "duration": 2584,
    "start_time": "2024-03-22T08:21:56.567Z"
   },
   {
    "duration": 2050,
    "start_time": "2024-03-22T08:21:59.153Z"
   },
   {
    "duration": 941,
    "start_time": "2024-03-22T08:22:01.204Z"
   },
   {
    "duration": 40,
    "start_time": "2024-03-22T08:22:02.147Z"
   },
   {
    "duration": 190,
    "start_time": "2024-03-22T08:22:02.188Z"
   },
   {
    "duration": 161,
    "start_time": "2024-03-22T08:22:02.379Z"
   },
   {
    "duration": 101,
    "start_time": "2024-03-22T08:22:02.542Z"
   },
   {
    "duration": 180,
    "start_time": "2024-03-22T08:22:02.645Z"
   },
   {
    "duration": 26,
    "start_time": "2024-03-22T08:22:02.826Z"
   },
   {
    "duration": 123,
    "start_time": "2024-03-22T08:22:02.872Z"
   },
   {
    "duration": 19,
    "start_time": "2024-03-22T08:22:02.996Z"
   },
   {
    "duration": 15,
    "start_time": "2024-03-22T08:22:03.016Z"
   },
   {
    "duration": 81,
    "start_time": "2024-03-22T08:22:03.033Z"
   },
   {
    "duration": 168,
    "start_time": "2024-03-22T08:22:03.116Z"
   },
   {
    "duration": 110,
    "start_time": "2024-03-22T08:22:03.285Z"
   },
   {
    "duration": 789,
    "start_time": "2024-03-22T08:22:03.396Z"
   },
   {
    "duration": 202,
    "start_time": "2024-03-22T08:22:04.187Z"
   },
   {
    "duration": 205,
    "start_time": "2024-03-22T08:22:04.391Z"
   },
   {
    "duration": 5327,
    "start_time": "2024-03-22T08:22:04.597Z"
   },
   {
    "duration": 21,
    "start_time": "2024-03-22T08:22:09.926Z"
   },
   {
    "duration": 163,
    "start_time": "2024-03-22T08:22:09.949Z"
   },
   {
    "duration": 186,
    "start_time": "2024-03-22T08:22:10.114Z"
   },
   {
    "duration": 4775,
    "start_time": "2024-03-22T08:22:10.301Z"
   },
   {
    "duration": 884,
    "start_time": "2024-03-22T08:22:15.077Z"
   },
   {
    "duration": 11,
    "start_time": "2024-03-22T08:22:15.963Z"
   },
   {
    "duration": 63,
    "start_time": "2024-03-22T08:22:15.976Z"
   },
   {
    "duration": 3,
    "start_time": "2024-03-22T08:22:16.040Z"
   },
   {
    "duration": 38831,
    "start_time": "2024-03-22T08:22:16.046Z"
   },
   {
    "duration": 5604,
    "start_time": "2024-03-22T08:22:54.879Z"
   },
   {
    "duration": 271,
    "start_time": "2024-03-22T08:23:00.485Z"
   },
   {
    "duration": 22,
    "start_time": "2024-03-22T08:23:00.758Z"
   },
   {
    "duration": 2542,
    "start_time": "2024-03-22T08:23:37.441Z"
   },
   {
    "duration": 1643,
    "start_time": "2024-03-22T08:23:39.986Z"
   },
   {
    "duration": 906,
    "start_time": "2024-03-22T08:23:41.630Z"
   },
   {
    "duration": 24,
    "start_time": "2024-03-22T08:23:42.538Z"
   },
   {
    "duration": 167,
    "start_time": "2024-03-22T08:23:42.564Z"
   },
   {
    "duration": 163,
    "start_time": "2024-03-22T08:23:42.733Z"
   },
   {
    "duration": 104,
    "start_time": "2024-03-22T08:23:42.897Z"
   },
   {
    "duration": 177,
    "start_time": "2024-03-22T08:23:43.003Z"
   },
   {
    "duration": 25,
    "start_time": "2024-03-22T08:23:43.182Z"
   },
   {
    "duration": 66,
    "start_time": "2024-03-22T08:23:43.209Z"
   },
   {
    "duration": 105,
    "start_time": "2024-03-22T08:23:43.276Z"
   },
   {
    "duration": 15,
    "start_time": "2024-03-22T08:23:43.382Z"
   },
   {
    "duration": 86,
    "start_time": "2024-03-22T08:23:43.398Z"
   },
   {
    "duration": 181,
    "start_time": "2024-03-22T08:23:43.488Z"
   },
   {
    "duration": 105,
    "start_time": "2024-03-22T08:23:43.670Z"
   },
   {
    "duration": 732,
    "start_time": "2024-03-22T08:23:43.777Z"
   },
   {
    "duration": 203,
    "start_time": "2024-03-22T08:23:44.511Z"
   },
   {
    "duration": 218,
    "start_time": "2024-03-22T08:23:44.715Z"
   },
   {
    "duration": 5230,
    "start_time": "2024-03-22T08:23:44.934Z"
   },
   {
    "duration": 26,
    "start_time": "2024-03-22T08:23:50.165Z"
   },
   {
    "duration": 201,
    "start_time": "2024-03-22T08:23:50.192Z"
   },
   {
    "duration": 18,
    "start_time": "2024-03-22T08:23:50.394Z"
   },
   {
    "duration": 206,
    "start_time": "2024-03-22T08:23:50.414Z"
   },
   {
    "duration": 4579,
    "start_time": "2024-03-22T08:23:50.621Z"
   },
   {
    "duration": 809,
    "start_time": "2024-03-22T08:23:55.201Z"
   },
   {
    "duration": 18,
    "start_time": "2024-03-22T08:23:56.012Z"
   },
   {
    "duration": 76,
    "start_time": "2024-03-22T08:23:56.032Z"
   },
   {
    "duration": 4,
    "start_time": "2024-03-22T08:23:56.110Z"
   },
   {
    "duration": 35871,
    "start_time": "2024-03-22T08:23:56.115Z"
   },
   {
    "duration": 4996,
    "start_time": "2024-03-22T08:24:31.987Z"
   },
   {
    "duration": 247,
    "start_time": "2024-03-22T08:24:36.985Z"
   },
   {
    "duration": 2635,
    "start_time": "2024-03-22T11:12:24.045Z"
   },
   {
    "duration": 1681,
    "start_time": "2024-03-22T11:12:26.682Z"
   },
   {
    "duration": 928,
    "start_time": "2024-03-22T11:12:28.365Z"
   },
   {
    "duration": 25,
    "start_time": "2024-03-22T11:12:29.295Z"
   },
   {
    "duration": 175,
    "start_time": "2024-03-22T11:12:29.322Z"
   },
   {
    "duration": 159,
    "start_time": "2024-03-22T11:12:29.499Z"
   },
   {
    "duration": 100,
    "start_time": "2024-03-22T11:12:29.660Z"
   },
   {
    "duration": 189,
    "start_time": "2024-03-22T11:12:29.762Z"
   },
   {
    "duration": 37,
    "start_time": "2024-03-22T11:12:29.953Z"
   },
   {
    "duration": 132,
    "start_time": "2024-03-22T11:12:29.992Z"
   },
   {
    "duration": 22,
    "start_time": "2024-03-22T11:12:30.126Z"
   },
   {
    "duration": 75,
    "start_time": "2024-03-22T11:12:30.149Z"
   },
   {
    "duration": 122,
    "start_time": "2024-03-22T11:12:30.225Z"
   },
   {
    "duration": 217,
    "start_time": "2024-03-22T11:12:30.348Z"
   },
   {
    "duration": 101,
    "start_time": "2024-03-22T11:12:30.567Z"
   },
   {
    "duration": 829,
    "start_time": "2024-03-22T11:12:30.672Z"
   },
   {
    "duration": 211,
    "start_time": "2024-03-22T11:12:31.503Z"
   },
   {
    "duration": 238,
    "start_time": "2024-03-22T11:12:31.716Z"
   },
   {
    "duration": 5584,
    "start_time": "2024-03-22T11:12:31.956Z"
   },
   {
    "duration": 21,
    "start_time": "2024-03-22T11:12:37.541Z"
   },
   {
    "duration": 157,
    "start_time": "2024-03-22T11:12:37.572Z"
   },
   {
    "duration": 17,
    "start_time": "2024-03-22T11:12:37.730Z"
   },
   {
    "duration": 164,
    "start_time": "2024-03-22T11:12:37.749Z"
   },
   {
    "duration": 4721,
    "start_time": "2024-03-22T11:12:37.915Z"
   },
   {
    "duration": 910,
    "start_time": "2024-03-22T11:12:42.637Z"
   },
   {
    "duration": 18,
    "start_time": "2024-03-22T11:12:43.548Z"
   },
   {
    "duration": 56,
    "start_time": "2024-03-22T11:12:43.573Z"
   },
   {
    "duration": 3,
    "start_time": "2024-03-22T11:12:43.632Z"
   },
   {
    "duration": 35244,
    "start_time": "2024-03-22T11:12:43.637Z"
   },
   {
    "duration": 5705,
    "start_time": "2024-03-22T11:13:18.883Z"
   },
   {
    "duration": 251,
    "start_time": "2024-03-22T11:13:24.590Z"
   },
   {
    "duration": 3222,
    "start_time": "2024-03-23T18:06:01.130Z"
   },
   {
    "duration": 1478,
    "start_time": "2024-03-23T18:06:04.354Z"
   },
   {
    "duration": 2780,
    "start_time": "2024-03-23T18:06:05.833Z"
   },
   {
    "duration": 20,
    "start_time": "2024-03-23T18:06:08.615Z"
   },
   {
    "duration": 103,
    "start_time": "2024-03-23T18:06:08.637Z"
   },
   {
    "duration": 114,
    "start_time": "2024-03-23T18:06:08.741Z"
   },
   {
    "duration": 88,
    "start_time": "2024-03-23T18:06:08.856Z"
   },
   {
    "duration": 133,
    "start_time": "2024-03-23T18:06:08.946Z"
   },
   {
    "duration": 26,
    "start_time": "2024-03-23T18:06:09.081Z"
   },
   {
    "duration": 101,
    "start_time": "2024-03-23T18:06:09.109Z"
   },
   {
    "duration": 16,
    "start_time": "2024-03-23T18:06:09.212Z"
   },
   {
    "duration": 11,
    "start_time": "2024-03-23T18:06:09.229Z"
   },
   {
    "duration": 67,
    "start_time": "2024-03-23T18:06:09.241Z"
   },
   {
    "duration": 125,
    "start_time": "2024-03-23T18:06:09.310Z"
   },
   {
    "duration": 92,
    "start_time": "2024-03-23T18:06:09.436Z"
   },
   {
    "duration": 643,
    "start_time": "2024-03-23T18:06:09.529Z"
   },
   {
    "duration": 156,
    "start_time": "2024-03-23T18:06:10.173Z"
   },
   {
    "duration": 164,
    "start_time": "2024-03-23T18:06:10.331Z"
   },
   {
    "duration": 4322,
    "start_time": "2024-03-23T18:06:10.497Z"
   },
   {
    "duration": 19,
    "start_time": "2024-03-23T18:06:14.821Z"
   },
   {
    "duration": 121,
    "start_time": "2024-03-23T18:06:14.842Z"
   },
   {
    "duration": 14,
    "start_time": "2024-03-23T18:06:14.964Z"
   },
   {
    "duration": 134,
    "start_time": "2024-03-23T18:06:14.980Z"
   },
   {
    "duration": 3593,
    "start_time": "2024-03-23T18:06:15.115Z"
   },
   {
    "duration": 671,
    "start_time": "2024-03-23T18:06:18.709Z"
   },
   {
    "duration": 21,
    "start_time": "2024-03-23T18:06:19.382Z"
   },
   {
    "duration": 37,
    "start_time": "2024-03-23T18:06:19.405Z"
   },
   {
    "duration": 3,
    "start_time": "2024-03-23T18:06:19.444Z"
   },
   {
    "duration": 26759,
    "start_time": "2024-03-23T18:06:19.448Z"
   },
   {
    "duration": 6004,
    "start_time": "2024-03-23T18:06:46.208Z"
   },
   {
    "duration": 2414,
    "start_time": "2024-03-23T18:08:56.709Z"
   },
   {
    "duration": 1406,
    "start_time": "2024-03-23T18:08:59.125Z"
   },
   {
    "duration": 710,
    "start_time": "2024-03-23T18:09:00.532Z"
   },
   {
    "duration": 21,
    "start_time": "2024-03-23T18:09:01.244Z"
   },
   {
    "duration": 122,
    "start_time": "2024-03-23T18:09:01.267Z"
   },
   {
    "duration": 96,
    "start_time": "2024-03-23T18:09:01.390Z"
   },
   {
    "duration": 122,
    "start_time": "2024-03-23T18:09:01.487Z"
   },
   {
    "duration": 135,
    "start_time": "2024-03-23T18:09:01.610Z"
   },
   {
    "duration": 21,
    "start_time": "2024-03-23T18:09:01.746Z"
   },
   {
    "duration": 130,
    "start_time": "2024-03-23T18:09:01.770Z"
   },
   {
    "duration": 13,
    "start_time": "2024-03-23T18:09:01.902Z"
   },
   {
    "duration": 36,
    "start_time": "2024-03-23T18:09:01.916Z"
   },
   {
    "duration": 65,
    "start_time": "2024-03-23T18:09:01.954Z"
   },
   {
    "duration": 116,
    "start_time": "2024-03-23T18:09:02.021Z"
   },
   {
    "duration": 102,
    "start_time": "2024-03-23T18:09:02.138Z"
   },
   {
    "duration": 579,
    "start_time": "2024-03-23T18:09:02.241Z"
   },
   {
    "duration": 152,
    "start_time": "2024-03-23T18:09:02.821Z"
   },
   {
    "duration": 148,
    "start_time": "2024-03-23T18:09:02.975Z"
   },
   {
    "duration": 4377,
    "start_time": "2024-03-23T18:09:03.125Z"
   },
   {
    "duration": 21,
    "start_time": "2024-03-23T18:09:07.503Z"
   },
   {
    "duration": 139,
    "start_time": "2024-03-23T18:09:07.525Z"
   },
   {
    "duration": 13,
    "start_time": "2024-03-23T18:09:07.666Z"
   },
   {
    "duration": 130,
    "start_time": "2024-03-23T18:09:07.680Z"
   },
   {
    "duration": 3615,
    "start_time": "2024-03-23T18:09:07.811Z"
   },
   {
    "duration": 643,
    "start_time": "2024-03-23T18:09:11.428Z"
   },
   {
    "duration": 18,
    "start_time": "2024-03-23T18:09:12.072Z"
   },
   {
    "duration": 43,
    "start_time": "2024-03-23T18:09:12.092Z"
   },
   {
    "duration": 3,
    "start_time": "2024-03-23T18:09:12.137Z"
   },
   {
    "duration": 25570,
    "start_time": "2024-03-23T18:09:12.141Z"
   },
   {
    "duration": 6391,
    "start_time": "2024-03-23T18:09:37.712Z"
   },
   {
    "duration": 211197,
    "start_time": "2024-03-23T18:09:44.105Z"
   },
   {
    "duration": 160,
    "start_time": "2024-03-23T18:13:15.304Z"
   },
   {
    "duration": 2502,
    "start_time": "2024-03-23T18:20:37.677Z"
   },
   {
    "duration": 1436,
    "start_time": "2024-03-23T18:20:40.181Z"
   },
   {
    "duration": 701,
    "start_time": "2024-03-23T18:20:41.618Z"
   },
   {
    "duration": 21,
    "start_time": "2024-03-23T18:20:42.321Z"
   },
   {
    "duration": 112,
    "start_time": "2024-03-23T18:20:42.344Z"
   },
   {
    "duration": 109,
    "start_time": "2024-03-23T18:20:42.457Z"
   },
   {
    "duration": 88,
    "start_time": "2024-03-23T18:20:42.568Z"
   },
   {
    "duration": 153,
    "start_time": "2024-03-23T18:20:42.657Z"
   },
   {
    "duration": 19,
    "start_time": "2024-03-23T18:20:42.811Z"
   },
   {
    "duration": 108,
    "start_time": "2024-03-23T18:20:42.833Z"
   },
   {
    "duration": 18,
    "start_time": "2024-03-23T18:20:42.942Z"
   },
   {
    "duration": 14,
    "start_time": "2024-03-23T18:20:42.965Z"
   },
   {
    "duration": 74,
    "start_time": "2024-03-23T18:20:42.981Z"
   },
   {
    "duration": 122,
    "start_time": "2024-03-23T18:20:43.057Z"
   },
   {
    "duration": 97,
    "start_time": "2024-03-23T18:20:43.181Z"
   },
   {
    "duration": 564,
    "start_time": "2024-03-23T18:20:43.280Z"
   },
   {
    "duration": 156,
    "start_time": "2024-03-23T18:20:43.845Z"
   },
   {
    "duration": 157,
    "start_time": "2024-03-23T18:20:44.002Z"
   },
   {
    "duration": 4470,
    "start_time": "2024-03-23T18:20:44.160Z"
   },
   {
    "duration": 20,
    "start_time": "2024-03-23T18:20:48.631Z"
   },
   {
    "duration": 115,
    "start_time": "2024-03-23T18:20:48.652Z"
   },
   {
    "duration": 14,
    "start_time": "2024-03-23T18:20:48.768Z"
   },
   {
    "duration": 145,
    "start_time": "2024-03-23T18:20:48.783Z"
   },
   {
    "duration": 3881,
    "start_time": "2024-03-23T18:20:48.929Z"
   },
   {
    "duration": 706,
    "start_time": "2024-03-23T18:20:52.811Z"
   },
   {
    "duration": 16,
    "start_time": "2024-03-23T18:20:53.519Z"
   },
   {
    "duration": 40,
    "start_time": "2024-03-23T18:20:53.536Z"
   },
   {
    "duration": 3,
    "start_time": "2024-03-23T18:20:53.578Z"
   },
   {
    "duration": 25920,
    "start_time": "2024-03-23T18:20:53.582Z"
   },
   {
    "duration": 144673,
    "start_time": "2024-03-23T18:21:19.503Z"
   },
   {
    "duration": 0,
    "start_time": "2024-03-23T18:23:44.177Z"
   },
   {
    "duration": 0,
    "start_time": "2024-03-23T18:23:44.178Z"
   },
   {
    "duration": 45,
    "start_time": "2024-03-23T18:25:46.168Z"
   },
   {
    "duration": 2425,
    "start_time": "2024-03-23T18:26:23.253Z"
   },
   {
    "duration": 1341,
    "start_time": "2024-03-23T18:26:25.680Z"
   },
   {
    "duration": 705,
    "start_time": "2024-03-23T18:26:27.022Z"
   },
   {
    "duration": 21,
    "start_time": "2024-03-23T18:26:27.729Z"
   },
   {
    "duration": 118,
    "start_time": "2024-03-23T18:26:27.751Z"
   },
   {
    "duration": 101,
    "start_time": "2024-03-23T18:26:27.870Z"
   },
   {
    "duration": 88,
    "start_time": "2024-03-23T18:26:27.972Z"
   },
   {
    "duration": 135,
    "start_time": "2024-03-23T18:26:28.062Z"
   },
   {
    "duration": 18,
    "start_time": "2024-03-23T18:26:28.198Z"
   },
   {
    "duration": 98,
    "start_time": "2024-03-23T18:26:28.218Z"
   },
   {
    "duration": 13,
    "start_time": "2024-03-23T18:26:28.318Z"
   },
   {
    "duration": 10,
    "start_time": "2024-03-23T18:26:28.332Z"
   },
   {
    "duration": 70,
    "start_time": "2024-03-23T18:26:28.343Z"
   },
   {
    "duration": 126,
    "start_time": "2024-03-23T18:26:28.415Z"
   },
   {
    "duration": 98,
    "start_time": "2024-03-23T18:26:28.542Z"
   },
   {
    "duration": 602,
    "start_time": "2024-03-23T18:26:28.642Z"
   },
   {
    "duration": 159,
    "start_time": "2024-03-23T18:26:29.245Z"
   },
   {
    "duration": 159,
    "start_time": "2024-03-23T18:26:29.405Z"
   },
   {
    "duration": 4453,
    "start_time": "2024-03-23T18:26:29.565Z"
   },
   {
    "duration": 21,
    "start_time": "2024-03-23T18:26:34.019Z"
   },
   {
    "duration": 162,
    "start_time": "2024-03-23T18:26:34.042Z"
   },
   {
    "duration": 15,
    "start_time": "2024-03-23T18:26:34.205Z"
   },
   {
    "duration": 131,
    "start_time": "2024-03-23T18:26:34.222Z"
   },
   {
    "duration": 3652,
    "start_time": "2024-03-23T18:26:34.354Z"
   },
   {
    "duration": 680,
    "start_time": "2024-03-23T18:26:38.008Z"
   },
   {
    "duration": 24,
    "start_time": "2024-03-23T18:26:38.690Z"
   },
   {
    "duration": 64,
    "start_time": "2024-03-23T18:26:38.715Z"
   },
   {
    "duration": 3,
    "start_time": "2024-03-23T18:26:38.782Z"
   },
   {
    "duration": 27420,
    "start_time": "2024-03-23T18:26:38.786Z"
   },
   {
    "duration": 119094,
    "start_time": "2024-03-23T18:27:06.209Z"
   },
   {
    "duration": 5397,
    "start_time": "2024-03-23T18:29:05.305Z"
   },
   {
    "duration": 158,
    "start_time": "2024-03-23T18:29:10.703Z"
   },
   {
    "duration": 145591,
    "start_time": "2024-03-23T18:33:07.622Z"
   },
   {
    "duration": 25691,
    "start_time": "2024-03-23T18:40:06.310Z"
   },
   {
    "duration": 2505,
    "start_time": "2024-03-23T19:36:28.490Z"
   },
   {
    "duration": 1399,
    "start_time": "2024-03-23T19:36:30.997Z"
   },
   {
    "duration": 702,
    "start_time": "2024-03-23T19:36:32.398Z"
   },
   {
    "duration": 22,
    "start_time": "2024-03-23T19:36:33.102Z"
   },
   {
    "duration": 116,
    "start_time": "2024-03-23T19:36:33.125Z"
   },
   {
    "duration": 105,
    "start_time": "2024-03-23T19:36:33.242Z"
   },
   {
    "duration": 89,
    "start_time": "2024-03-23T19:36:33.349Z"
   },
   {
    "duration": 139,
    "start_time": "2024-03-23T19:36:33.439Z"
   },
   {
    "duration": 27,
    "start_time": "2024-03-23T19:36:33.579Z"
   },
   {
    "duration": 96,
    "start_time": "2024-03-23T19:36:33.609Z"
   },
   {
    "duration": 16,
    "start_time": "2024-03-23T19:36:33.707Z"
   },
   {
    "duration": 12,
    "start_time": "2024-03-23T19:36:33.724Z"
   },
   {
    "duration": 140,
    "start_time": "2024-03-23T19:36:33.737Z"
   },
   {
    "duration": 0,
    "start_time": "2024-03-23T19:36:33.879Z"
   },
   {
    "duration": 0,
    "start_time": "2024-03-23T19:36:33.880Z"
   },
   {
    "duration": 0,
    "start_time": "2024-03-23T19:36:33.881Z"
   },
   {
    "duration": 0,
    "start_time": "2024-03-23T19:36:33.881Z"
   },
   {
    "duration": 0,
    "start_time": "2024-03-23T19:36:33.882Z"
   },
   {
    "duration": 0,
    "start_time": "2024-03-23T19:36:33.882Z"
   },
   {
    "duration": 0,
    "start_time": "2024-03-23T19:36:33.883Z"
   },
   {
    "duration": 0,
    "start_time": "2024-03-23T19:36:33.884Z"
   },
   {
    "duration": 1,
    "start_time": "2024-03-23T19:36:33.901Z"
   },
   {
    "duration": 0,
    "start_time": "2024-03-23T19:36:33.902Z"
   },
   {
    "duration": 0,
    "start_time": "2024-03-23T19:36:33.903Z"
   },
   {
    "duration": 0,
    "start_time": "2024-03-23T19:36:33.904Z"
   },
   {
    "duration": 0,
    "start_time": "2024-03-23T19:36:33.904Z"
   },
   {
    "duration": 0,
    "start_time": "2024-03-23T19:36:33.905Z"
   },
   {
    "duration": 0,
    "start_time": "2024-03-23T19:36:33.906Z"
   },
   {
    "duration": 0,
    "start_time": "2024-03-23T19:36:33.907Z"
   },
   {
    "duration": 0,
    "start_time": "2024-03-23T19:36:33.907Z"
   },
   {
    "duration": 0,
    "start_time": "2024-03-23T19:36:33.908Z"
   },
   {
    "duration": 0,
    "start_time": "2024-03-23T19:36:33.909Z"
   },
   {
    "duration": 0,
    "start_time": "2024-03-23T19:36:33.910Z"
   },
   {
    "duration": 96,
    "start_time": "2024-03-23T19:38:05.517Z"
   },
   {
    "duration": 2427,
    "start_time": "2024-03-23T19:38:15.893Z"
   },
   {
    "duration": 1369,
    "start_time": "2024-03-23T19:38:18.323Z"
   },
   {
    "duration": 699,
    "start_time": "2024-03-23T19:38:19.693Z"
   },
   {
    "duration": 26,
    "start_time": "2024-03-23T19:38:20.394Z"
   },
   {
    "duration": 104,
    "start_time": "2024-03-23T19:38:20.421Z"
   },
   {
    "duration": 105,
    "start_time": "2024-03-23T19:38:20.526Z"
   },
   {
    "duration": 130,
    "start_time": "2024-03-23T19:38:20.632Z"
   },
   {
    "duration": 154,
    "start_time": "2024-03-23T19:38:20.764Z"
   },
   {
    "duration": 21,
    "start_time": "2024-03-23T19:38:20.919Z"
   },
   {
    "duration": 127,
    "start_time": "2024-03-23T19:38:20.943Z"
   },
   {
    "duration": 19,
    "start_time": "2024-03-23T19:38:21.072Z"
   },
   {
    "duration": 22,
    "start_time": "2024-03-23T19:38:21.093Z"
   },
   {
    "duration": 131,
    "start_time": "2024-03-23T19:38:21.117Z"
   },
   {
    "duration": 7,
    "start_time": "2024-03-23T19:38:21.250Z"
   },
   {
    "duration": 126,
    "start_time": "2024-03-23T19:38:21.258Z"
   },
   {
    "duration": 88,
    "start_time": "2024-03-23T19:38:21.385Z"
   },
   {
    "duration": 570,
    "start_time": "2024-03-23T19:38:21.474Z"
   },
   {
    "duration": 173,
    "start_time": "2024-03-23T19:38:22.045Z"
   },
   {
    "duration": 173,
    "start_time": "2024-03-23T19:38:22.220Z"
   },
   {
    "duration": 4444,
    "start_time": "2024-03-23T19:38:22.395Z"
   },
   {
    "duration": 17,
    "start_time": "2024-03-23T19:38:26.841Z"
   },
   {
    "duration": 113,
    "start_time": "2024-03-23T19:38:26.860Z"
   },
   {
    "duration": 13,
    "start_time": "2024-03-23T19:38:26.975Z"
   },
   {
    "duration": 128,
    "start_time": "2024-03-23T19:38:26.989Z"
   },
   {
    "duration": 3725,
    "start_time": "2024-03-23T19:38:27.119Z"
   },
   {
    "duration": 702,
    "start_time": "2024-03-23T19:38:30.846Z"
   },
   {
    "duration": 17,
    "start_time": "2024-03-23T19:38:31.550Z"
   },
   {
    "duration": 62,
    "start_time": "2024-03-23T19:38:31.570Z"
   },
   {
    "duration": 15,
    "start_time": "2024-03-23T19:38:31.633Z"
   },
   {
    "duration": 28199,
    "start_time": "2024-03-23T19:39:02.403Z"
   },
   {
    "duration": 201,
    "start_time": "2024-03-23T19:39:30.604Z"
   },
   {
    "duration": 44,
    "start_time": "2024-03-23T19:40:10.556Z"
   },
   {
    "duration": 2405,
    "start_time": "2024-03-23T19:40:32.433Z"
   },
   {
    "duration": 1361,
    "start_time": "2024-03-23T19:40:34.840Z"
   },
   {
    "duration": 699,
    "start_time": "2024-03-23T19:40:36.203Z"
   },
   {
    "duration": 21,
    "start_time": "2024-03-23T19:40:36.904Z"
   },
   {
    "duration": 105,
    "start_time": "2024-03-23T19:40:36.926Z"
   },
   {
    "duration": 102,
    "start_time": "2024-03-23T19:40:37.032Z"
   },
   {
    "duration": 130,
    "start_time": "2024-03-23T19:40:37.135Z"
   },
   {
    "duration": 139,
    "start_time": "2024-03-23T19:40:37.267Z"
   },
   {
    "duration": 17,
    "start_time": "2024-03-23T19:40:37.408Z"
   },
   {
    "duration": 109,
    "start_time": "2024-03-23T19:40:37.427Z"
   },
   {
    "duration": 13,
    "start_time": "2024-03-23T19:40:37.537Z"
   },
   {
    "duration": 10,
    "start_time": "2024-03-23T19:40:37.552Z"
   },
   {
    "duration": 100,
    "start_time": "2024-03-23T19:40:37.564Z"
   },
   {
    "duration": 6,
    "start_time": "2024-03-23T19:40:37.666Z"
   },
   {
    "duration": 300,
    "start_time": "2024-03-23T19:40:37.673Z"
   },
   {
    "duration": 0,
    "start_time": "2024-03-23T19:40:37.974Z"
   },
   {
    "duration": 0,
    "start_time": "2024-03-23T19:40:37.975Z"
   },
   {
    "duration": 0,
    "start_time": "2024-03-23T19:40:37.976Z"
   },
   {
    "duration": 0,
    "start_time": "2024-03-23T19:40:37.977Z"
   },
   {
    "duration": 0,
    "start_time": "2024-03-23T19:40:37.978Z"
   },
   {
    "duration": 0,
    "start_time": "2024-03-23T19:40:37.979Z"
   },
   {
    "duration": 0,
    "start_time": "2024-03-23T19:40:37.980Z"
   },
   {
    "duration": 0,
    "start_time": "2024-03-23T19:40:37.981Z"
   },
   {
    "duration": 0,
    "start_time": "2024-03-23T19:40:37.982Z"
   },
   {
    "duration": 0,
    "start_time": "2024-03-23T19:40:37.983Z"
   },
   {
    "duration": 0,
    "start_time": "2024-03-23T19:40:37.984Z"
   },
   {
    "duration": 0,
    "start_time": "2024-03-23T19:40:37.985Z"
   },
   {
    "duration": 0,
    "start_time": "2024-03-23T19:40:37.986Z"
   },
   {
    "duration": 0,
    "start_time": "2024-03-23T19:40:37.987Z"
   },
   {
    "duration": 0,
    "start_time": "2024-03-23T19:40:37.988Z"
   },
   {
    "duration": 0,
    "start_time": "2024-03-23T19:40:37.989Z"
   },
   {
    "duration": 0,
    "start_time": "2024-03-23T19:40:37.990Z"
   },
   {
    "duration": 0,
    "start_time": "2024-03-23T19:40:37.991Z"
   },
   {
    "duration": 0,
    "start_time": "2024-03-23T19:40:37.992Z"
   },
   {
    "duration": 127,
    "start_time": "2024-03-23T19:40:59.464Z"
   },
   {
    "duration": 281,
    "start_time": "2024-03-23T19:41:03.207Z"
   },
   {
    "duration": 16,
    "start_time": "2024-03-23T19:42:11.921Z"
   },
   {
    "duration": 208,
    "start_time": "2024-03-23T19:42:21.853Z"
   },
   {
    "duration": 47,
    "start_time": "2024-03-23T19:42:46.182Z"
   },
   {
    "duration": 262,
    "start_time": "2024-03-23T19:42:48.592Z"
   },
   {
    "duration": 172,
    "start_time": "2024-03-23T19:42:54.178Z"
   },
   {
    "duration": 122,
    "start_time": "2024-03-23T19:43:02.500Z"
   },
   {
    "duration": 2416,
    "start_time": "2024-03-23T19:43:17.119Z"
   },
   {
    "duration": 1412,
    "start_time": "2024-03-23T19:43:19.537Z"
   },
   {
    "duration": 694,
    "start_time": "2024-03-23T19:43:20.950Z"
   },
   {
    "duration": 22,
    "start_time": "2024-03-23T19:43:21.645Z"
   },
   {
    "duration": 101,
    "start_time": "2024-03-23T19:43:21.668Z"
   },
   {
    "duration": 106,
    "start_time": "2024-03-23T19:43:21.770Z"
   },
   {
    "duration": 90,
    "start_time": "2024-03-23T19:43:21.877Z"
   },
   {
    "duration": 144,
    "start_time": "2024-03-23T19:43:21.968Z"
   },
   {
    "duration": 24,
    "start_time": "2024-03-23T19:43:22.114Z"
   },
   {
    "duration": 115,
    "start_time": "2024-03-23T19:43:22.141Z"
   },
   {
    "duration": 12,
    "start_time": "2024-03-23T19:43:22.258Z"
   },
   {
    "duration": 12,
    "start_time": "2024-03-23T19:43:22.271Z"
   },
   {
    "duration": 106,
    "start_time": "2024-03-23T19:43:22.285Z"
   },
   {
    "duration": 13,
    "start_time": "2024-03-23T19:43:22.392Z"
   },
   {
    "duration": 46,
    "start_time": "2024-03-23T19:43:22.406Z"
   },
   {
    "duration": 125,
    "start_time": "2024-03-23T19:43:22.453Z"
   },
   {
    "duration": 73,
    "start_time": "2024-03-23T19:43:22.579Z"
   },
   {
    "duration": 571,
    "start_time": "2024-03-23T19:43:22.653Z"
   },
   {
    "duration": 150,
    "start_time": "2024-03-23T19:43:23.225Z"
   },
   {
    "duration": 153,
    "start_time": "2024-03-23T19:43:23.376Z"
   },
   {
    "duration": 4387,
    "start_time": "2024-03-23T19:43:23.530Z"
   },
   {
    "duration": 17,
    "start_time": "2024-03-23T19:43:27.918Z"
   },
   {
    "duration": 115,
    "start_time": "2024-03-23T19:43:27.936Z"
   },
   {
    "duration": 14,
    "start_time": "2024-03-23T19:43:28.052Z"
   },
   {
    "duration": 126,
    "start_time": "2024-03-23T19:43:28.067Z"
   },
   {
    "duration": 3499,
    "start_time": "2024-03-23T19:43:28.201Z"
   },
   {
    "duration": 710,
    "start_time": "2024-03-23T19:43:31.701Z"
   },
   {
    "duration": 14,
    "start_time": "2024-03-23T19:43:32.414Z"
   },
   {
    "duration": 42,
    "start_time": "2024-03-23T19:43:32.430Z"
   },
   {
    "duration": 2,
    "start_time": "2024-03-23T19:43:32.474Z"
   },
   {
    "duration": 25434,
    "start_time": "2024-03-23T19:43:32.478Z"
   },
   {
    "duration": 5104,
    "start_time": "2024-03-23T19:43:57.914Z"
   },
   {
    "duration": 27885,
    "start_time": "2024-03-23T19:44:03.019Z"
   },
   {
    "duration": 197,
    "start_time": "2024-03-23T19:44:30.906Z"
   },
   {
    "duration": 2424,
    "start_time": "2024-03-23T20:14:15.339Z"
   },
   {
    "duration": 1435,
    "start_time": "2024-03-23T20:14:17.765Z"
   },
   {
    "duration": 743,
    "start_time": "2024-03-23T20:14:19.201Z"
   },
   {
    "duration": 23,
    "start_time": "2024-03-23T20:14:19.946Z"
   },
   {
    "duration": 113,
    "start_time": "2024-03-23T20:14:19.970Z"
   },
   {
    "duration": 105,
    "start_time": "2024-03-23T20:14:20.084Z"
   },
   {
    "duration": 131,
    "start_time": "2024-03-23T20:14:20.191Z"
   },
   {
    "duration": 153,
    "start_time": "2024-03-23T20:14:20.324Z"
   },
   {
    "duration": 25,
    "start_time": "2024-03-23T20:14:20.478Z"
   },
   {
    "duration": 100,
    "start_time": "2024-03-23T20:14:20.505Z"
   },
   {
    "duration": 14,
    "start_time": "2024-03-23T20:14:20.606Z"
   },
   {
    "duration": 11,
    "start_time": "2024-03-23T20:14:20.621Z"
   },
   {
    "duration": 105,
    "start_time": "2024-03-23T20:14:20.633Z"
   },
   {
    "duration": 5,
    "start_time": "2024-03-23T20:14:20.739Z"
   },
   {
    "duration": 57,
    "start_time": "2024-03-23T20:14:20.745Z"
   },
   {
    "duration": 131,
    "start_time": "2024-03-23T20:14:20.803Z"
   },
   {
    "duration": 89,
    "start_time": "2024-03-23T20:14:20.935Z"
   },
   {
    "duration": 598,
    "start_time": "2024-03-23T20:14:21.026Z"
   },
   {
    "duration": 152,
    "start_time": "2024-03-23T20:14:21.625Z"
   },
   {
    "duration": 152,
    "start_time": "2024-03-23T20:14:21.779Z"
   },
   {
    "duration": 4506,
    "start_time": "2024-03-23T20:14:21.932Z"
   },
   {
    "duration": 16,
    "start_time": "2024-03-23T20:14:26.439Z"
   },
   {
    "duration": 97,
    "start_time": "2024-03-23T20:14:26.456Z"
   },
   {
    "duration": 14,
    "start_time": "2024-03-23T20:14:26.554Z"
   },
   {
    "duration": 110,
    "start_time": "2024-03-23T20:14:26.569Z"
   },
   {
    "duration": 2593,
    "start_time": "2024-03-23T20:14:26.680Z"
   },
   {
    "duration": 623,
    "start_time": "2024-03-23T20:14:29.275Z"
   },
   {
    "duration": 10,
    "start_time": "2024-03-23T20:14:29.901Z"
   },
   {
    "duration": 38,
    "start_time": "2024-03-23T20:14:29.912Z"
   },
   {
    "duration": 3,
    "start_time": "2024-03-23T20:14:29.951Z"
   },
   {
    "duration": 20448,
    "start_time": "2024-03-23T20:14:29.955Z"
   },
   {
    "duration": 5506,
    "start_time": "2024-03-23T20:14:50.406Z"
   },
   {
    "duration": 21096,
    "start_time": "2024-03-23T20:14:55.914Z"
   },
   {
    "duration": 247,
    "start_time": "2024-03-23T20:15:17.011Z"
   },
   {
    "duration": 2403,
    "start_time": "2024-03-23T21:44:39.454Z"
   },
   {
    "duration": 1357,
    "start_time": "2024-03-23T21:44:41.859Z"
   },
   {
    "duration": 689,
    "start_time": "2024-03-23T21:44:43.217Z"
   },
   {
    "duration": 20,
    "start_time": "2024-03-23T21:44:43.908Z"
   },
   {
    "duration": 107,
    "start_time": "2024-03-23T21:44:43.929Z"
   },
   {
    "duration": 101,
    "start_time": "2024-03-23T21:44:44.037Z"
   },
   {
    "duration": 91,
    "start_time": "2024-03-23T21:44:44.139Z"
   },
   {
    "duration": 136,
    "start_time": "2024-03-23T21:44:44.231Z"
   },
   {
    "duration": 18,
    "start_time": "2024-03-23T21:44:44.369Z"
   },
   {
    "duration": 91,
    "start_time": "2024-03-23T21:44:44.401Z"
   },
   {
    "duration": 18,
    "start_time": "2024-03-23T21:44:44.493Z"
   },
   {
    "duration": 12,
    "start_time": "2024-03-23T21:44:44.512Z"
   },
   {
    "duration": 111,
    "start_time": "2024-03-23T21:44:44.525Z"
   },
   {
    "duration": 7,
    "start_time": "2024-03-23T21:44:44.637Z"
   },
   {
    "duration": 65,
    "start_time": "2024-03-23T21:44:44.645Z"
   },
   {
    "duration": 128,
    "start_time": "2024-03-23T21:44:44.711Z"
   },
   {
    "duration": 76,
    "start_time": "2024-03-23T21:44:44.840Z"
   },
   {
    "duration": 583,
    "start_time": "2024-03-23T21:44:44.917Z"
   },
   {
    "duration": 162,
    "start_time": "2024-03-23T21:44:45.501Z"
   },
   {
    "duration": 154,
    "start_time": "2024-03-23T21:44:45.664Z"
   },
   {
    "duration": 4394,
    "start_time": "2024-03-23T21:44:45.820Z"
   },
   {
    "duration": 17,
    "start_time": "2024-03-23T21:44:50.215Z"
   },
   {
    "duration": 116,
    "start_time": "2024-03-23T21:44:50.233Z"
   },
   {
    "duration": 23,
    "start_time": "2024-03-23T21:44:50.351Z"
   },
   {
    "duration": 216,
    "start_time": "2024-03-23T21:44:50.375Z"
   },
   {
    "duration": 2653,
    "start_time": "2024-03-23T21:44:50.592Z"
   },
   {
    "duration": 594,
    "start_time": "2024-03-23T21:44:53.246Z"
   },
   {
    "duration": 11,
    "start_time": "2024-03-23T21:44:53.843Z"
   },
   {
    "duration": 37,
    "start_time": "2024-03-23T21:44:53.855Z"
   },
   {
    "duration": 7,
    "start_time": "2024-03-23T21:44:53.894Z"
   },
   {
    "duration": 20114,
    "start_time": "2024-03-23T21:44:53.903Z"
   },
   {
    "duration": 5108,
    "start_time": "2024-03-23T21:45:14.102Z"
   },
   {
    "duration": 20495,
    "start_time": "2024-03-23T21:45:19.214Z"
   },
   {
    "duration": 220,
    "start_time": "2024-03-23T21:45:39.712Z"
   },
   {
    "duration": 2414,
    "start_time": "2024-03-23T21:48:17.798Z"
   },
   {
    "duration": 1429,
    "start_time": "2024-03-23T21:48:20.214Z"
   },
   {
    "duration": 691,
    "start_time": "2024-03-23T21:48:21.644Z"
   },
   {
    "duration": 21,
    "start_time": "2024-03-23T21:48:22.337Z"
   },
   {
    "duration": 116,
    "start_time": "2024-03-23T21:48:22.359Z"
   },
   {
    "duration": 117,
    "start_time": "2024-03-23T21:48:22.477Z"
   },
   {
    "duration": 84,
    "start_time": "2024-03-23T21:48:22.595Z"
   },
   {
    "duration": 142,
    "start_time": "2024-03-23T21:48:22.680Z"
   },
   {
    "duration": 20,
    "start_time": "2024-03-23T21:48:22.823Z"
   },
   {
    "duration": 108,
    "start_time": "2024-03-23T21:48:22.845Z"
   },
   {
    "duration": 15,
    "start_time": "2024-03-23T21:48:22.954Z"
   },
   {
    "duration": 20,
    "start_time": "2024-03-23T21:48:22.970Z"
   },
   {
    "duration": 97,
    "start_time": "2024-03-23T21:48:22.991Z"
   },
   {
    "duration": 17,
    "start_time": "2024-03-23T21:48:23.089Z"
   },
   {
    "duration": 71,
    "start_time": "2024-03-23T21:48:23.108Z"
   },
   {
    "duration": 123,
    "start_time": "2024-03-23T21:48:23.181Z"
   },
   {
    "duration": 66,
    "start_time": "2024-03-23T21:48:23.306Z"
   },
   {
    "duration": 583,
    "start_time": "2024-03-23T21:48:23.373Z"
   },
   {
    "duration": 148,
    "start_time": "2024-03-23T21:48:23.957Z"
   },
   {
    "duration": 157,
    "start_time": "2024-03-23T21:48:24.106Z"
   },
   {
    "duration": 4344,
    "start_time": "2024-03-23T21:48:24.264Z"
   },
   {
    "duration": 16,
    "start_time": "2024-03-23T21:48:28.609Z"
   },
   {
    "duration": 98,
    "start_time": "2024-03-23T21:48:28.627Z"
   },
   {
    "duration": 14,
    "start_time": "2024-03-23T21:48:28.726Z"
   },
   {
    "duration": 106,
    "start_time": "2024-03-23T21:48:28.742Z"
   },
   {
    "duration": 2581,
    "start_time": "2024-03-23T21:48:28.849Z"
   },
   {
    "duration": 576,
    "start_time": "2024-03-23T21:48:31.431Z"
   },
   {
    "duration": 10,
    "start_time": "2024-03-23T21:48:32.010Z"
   },
   {
    "duration": 25,
    "start_time": "2024-03-23T21:48:32.022Z"
   },
   {
    "duration": 3,
    "start_time": "2024-03-23T21:48:32.048Z"
   },
   {
    "duration": 19956,
    "start_time": "2024-03-23T21:48:32.053Z"
   },
   {
    "duration": 5491,
    "start_time": "2024-03-23T21:48:52.011Z"
   }
  ],
  "kernelspec": {
   "display_name": "Python 3 (ipykernel)",
   "language": "python",
   "name": "python3"
  },
  "language_info": {
   "codemirror_mode": {
    "name": "ipython",
    "version": 3
   },
   "file_extension": ".py",
   "mimetype": "text/x-python",
   "name": "python",
   "nbconvert_exporter": "python",
   "pygments_lexer": "ipython3",
   "version": "3.9.5"
  },
  "toc": {
   "base_numbering": 1,
   "nav_menu": {},
   "number_sections": true,
   "sideBar": true,
   "skip_h1_title": true,
   "title_cell": "Table of Contents",
   "title_sidebar": "Contents",
   "toc_cell": false,
   "toc_position": {},
   "toc_section_display": true,
   "toc_window_display": false
  }
 },
 "nbformat": 4,
 "nbformat_minor": 2
}
